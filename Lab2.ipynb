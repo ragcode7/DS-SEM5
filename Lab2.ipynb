{
  "nbformat": 4,
  "nbformat_minor": 0,
  "metadata": {
    "colab": {
      "name": "Lab2.ipynb",
      "provenance": [],
      "authorship_tag": "ABX9TyOqgjx87NN/tpOVOkOvHbTC",
      "include_colab_link": true
    },
    "kernelspec": {
      "name": "python3",
      "display_name": "Python 3"
    },
    "language_info": {
      "name": "python"
    }
  },
  "cells": [
    {
      "cell_type": "markdown",
      "metadata": {
        "id": "view-in-github",
        "colab_type": "text"
      },
      "source": [
        "<a href=\"https://colab.research.google.com/github/ragcode7/DS-SEM5/blob/main/Lab2.ipynb\" target=\"_parent\"><img src=\"https://colab.research.google.com/assets/colab-badge.svg\" alt=\"Open In Colab\"/></a>"
      ]
    },
    {
      "cell_type": "code",
      "metadata": {
        "colab": {
          "base_uri": "https://localhost:8080/"
        },
        "id": "XlqwWEYCflAu",
        "outputId": "afcdc688-0b84-499d-8f58-9659102bcce0"
      },
      "source": [
        "from google.colab import drive\n",
        "drive.mount('/content/drive')"
      ],
      "execution_count": 5,
      "outputs": [
        {
          "output_type": "stream",
          "text": [
            "Mounted at /content/drive\n"
          ],
          "name": "stdout"
        }
      ]
    },
    {
      "cell_type": "code",
      "metadata": {
        "colab": {
          "base_uri": "https://localhost:8080/"
        },
        "id": "QFfRtOIOfT7Z",
        "outputId": "67ba1f8b-f08c-4fd3-bc88-c38fee3a5940"
      },
      "source": [
        "import pandas as pd\n",
        "data = pd.read_csv('uk-500.csv')\n",
        "data.describe()\n",
        "data.info()\n",
        "data.shape"
      ],
      "execution_count": 12,
      "outputs": [
        {
          "output_type": "stream",
          "text": [
            "<class 'pandas.core.frame.DataFrame'>\n",
            "RangeIndex: 500 entries, 0 to 499\n",
            "Data columns (total 11 columns):\n",
            " #   Column        Non-Null Count  Dtype \n",
            "---  ------        --------------  ----- \n",
            " 0   first_name    500 non-null    object\n",
            " 1   last_name     500 non-null    object\n",
            " 2   company_name  500 non-null    object\n",
            " 3   address       500 non-null    object\n",
            " 4   city          500 non-null    object\n",
            " 5   county        500 non-null    object\n",
            " 6   postal        500 non-null    object\n",
            " 7   phone1        500 non-null    object\n",
            " 8   phone2        500 non-null    object\n",
            " 9   email         500 non-null    object\n",
            " 10  web           500 non-null    object\n",
            "dtypes: object(11)\n",
            "memory usage: 43.1+ KB\n"
          ],
          "name": "stdout"
        },
        {
          "output_type": "execute_result",
          "data": {
            "text/plain": [
              "(500, 11)"
            ]
          },
          "metadata": {
            "tags": []
          },
          "execution_count": 12
        }
      ]
    },
    {
      "cell_type": "markdown",
      "metadata": {
        "id": "PLOFhcshfvms"
      },
      "source": [
        "##Dataframe indexing"
      ]
    },
    {
      "cell_type": "code",
      "metadata": {
        "colab": {
          "base_uri": "https://localhost:8080/"
        },
        "id": "ESRRt5rmf4dy",
        "outputId": "b0370d87-d968-466c-8634-2873645b18ad"
      },
      "source": [
        "data.iloc[0]"
      ],
      "execution_count": 7,
      "outputs": [
        {
          "output_type": "execute_result",
          "data": {
            "text/plain": [
              "first_name                                   Aleshia\n",
              "last_name                                 Tomkiewicz\n",
              "company_name                 Alan D Rosenburg Cpa Pc\n",
              "address                                 14 Taylor St\n",
              "city                               St. Stephens Ward\n",
              "county                                          Kent\n",
              "postal                                       CT2 7PP\n",
              "phone1                                  01835-703597\n",
              "phone2                                  01944-369967\n",
              "email                        atomkiewicz@hotmail.com\n",
              "web             http://www.alandrosenburgcpapc.co.uk\n",
              "Name: 0, dtype: object"
            ]
          },
          "metadata": {
            "tags": []
          },
          "execution_count": 7
        }
      ]
    },
    {
      "cell_type": "code",
      "metadata": {
        "colab": {
          "base_uri": "https://localhost:8080/"
        },
        "id": "BIwiz_kZgRMj",
        "outputId": "ef26581b-e648-4258-bad8-53b8cde8c372"
      },
      "source": [
        "data.iloc[1]"
      ],
      "execution_count": 9,
      "outputs": [
        {
          "output_type": "execute_result",
          "data": {
            "text/plain": [
              "first_name                                   Evan\n",
              "last_name                               Zigomalas\n",
              "company_name                   Cap Gemini America\n",
              "address                               5 Binney St\n",
              "city                                   Abbey Ward\n",
              "county                            Buckinghamshire\n",
              "postal                                   HP11 2AX\n",
              "phone1                               01937-864715\n",
              "phone2                               01714-737668\n",
              "email                    evan.zigomalas@gmail.com\n",
              "web             http://www.capgeminiamerica.co.uk\n",
              "Name: 1, dtype: object"
            ]
          },
          "metadata": {
            "tags": []
          },
          "execution_count": 9
        }
      ]
    },
    {
      "cell_type": "markdown",
      "metadata": {
        "id": "OsJoPsMHgm0y"
      },
      "source": [
        "499th row"
      ]
    },
    {
      "cell_type": "code",
      "metadata": {
        "colab": {
          "base_uri": "https://localhost:8080/"
        },
        "id": "ziywv30mgNE0",
        "outputId": "58a0ddb7-4d15-47a1-d750-41d0d251fc20"
      },
      "source": [
        "data.iloc[-1]"
      ],
      "execution_count": 8,
      "outputs": [
        {
          "output_type": "execute_result",
          "data": {
            "text/plain": [
              "first_name                                               Mi\n",
              "last_name                                            Richan\n",
              "company_name                 Nelson Wright Haworth Golf Crs\n",
              "address                                     6 Norwood Grove\n",
              "city                                      Tanworth-in-Arden\n",
              "county                                         Warwickshire\n",
              "postal                                              B94 5RZ\n",
              "phone1                                         01451-785624\n",
              "phone2                                         01202-738406\n",
              "email                                        mi@hotmail.com\n",
              "web             http://www.nelsonwrighthaworthgolfcrs.co.uk\n",
              "Name: 499, dtype: object"
            ]
          },
          "metadata": {
            "tags": []
          },
          "execution_count": 8
        }
      ]
    },
    {
      "cell_type": "markdown",
      "metadata": {
        "id": "YNNy0YWNgtgg"
      },
      "source": [
        "#selecting columns\n"
      ]
    },
    {
      "cell_type": "code",
      "metadata": {
        "colab": {
          "base_uri": "https://localhost:8080/"
        },
        "id": "ZlEo7KdPgyv8",
        "outputId": "a687ec18-b2f5-4fe5-ee58-8f1654617fbb"
      },
      "source": [
        "data.iloc[:,1]"
      ],
      "execution_count": 13,
      "outputs": [
        {
          "output_type": "execute_result",
          "data": {
            "text/plain": [
              "0      Tomkiewicz\n",
              "1       Zigomalas\n",
              "2         Andrade\n",
              "3       Mcwalters\n",
              "4          Veness\n",
              "          ...    \n",
              "495          Veit\n",
              "496       Euresti\n",
              "497      Brenning\n",
              "498         Keeny\n",
              "499        Richan\n",
              "Name: last_name, Length: 500, dtype: object"
            ]
          },
          "metadata": {
            "tags": []
          },
          "execution_count": 13
        }
      ]
    },
    {
      "cell_type": "code",
      "metadata": {
        "colab": {
          "base_uri": "https://localhost:8080/"
        },
        "id": "MouTUGw4g2md",
        "outputId": "25f1d995-f15c-4f53-8480-0fde02f7c23c"
      },
      "source": [
        "data.iloc[:,-1]"
      ],
      "execution_count": 14,
      "outputs": [
        {
          "output_type": "execute_result",
          "data": {
            "text/plain": [
              "0             http://www.alandrosenburgcpapc.co.uk\n",
              "1                http://www.capgeminiamerica.co.uk\n",
              "2                 http://www.elliottjohnwesq.co.uk\n",
              "3                     http://www.mcmahanbenl.co.uk\n",
              "4                   http://www.champagneroom.co.uk\n",
              "                          ...                     \n",
              "495      http://www.plazagourmetdelicatessen.co.uk\n",
              "496             http://www.fitzgeraldedwardj.co.uk\n",
              "497               http://www.fureyassociates.co.uk\n",
              "498         http://www.bfgfederalcreditunion.co.uk\n",
              "499    http://www.nelsonwrighthaworthgolfcrs.co.uk\n",
              "Name: web, Length: 500, dtype: object"
            ]
          },
          "metadata": {
            "tags": []
          },
          "execution_count": 14
        }
      ]
    },
    {
      "cell_type": "markdown",
      "metadata": {
        "id": "E0GeRdDug76t"
      },
      "source": [
        "select only n rows"
      ]
    },
    {
      "cell_type": "code",
      "metadata": {
        "colab": {
          "base_uri": "https://localhost:8080/",
          "height": 394
        },
        "id": "SJCgPfTAg96O",
        "outputId": "a835899e-9df6-451e-f20f-9cea19b293bb"
      },
      "source": [
        "#first \n",
        "data.iloc[0:5]"
      ],
      "execution_count": 15,
      "outputs": [
        {
          "output_type": "execute_result",
          "data": {
            "text/html": [
              "<div>\n",
              "<style scoped>\n",
              "    .dataframe tbody tr th:only-of-type {\n",
              "        vertical-align: middle;\n",
              "    }\n",
              "\n",
              "    .dataframe tbody tr th {\n",
              "        vertical-align: top;\n",
              "    }\n",
              "\n",
              "    .dataframe thead th {\n",
              "        text-align: right;\n",
              "    }\n",
              "</style>\n",
              "<table border=\"1\" class=\"dataframe\">\n",
              "  <thead>\n",
              "    <tr style=\"text-align: right;\">\n",
              "      <th></th>\n",
              "      <th>first_name</th>\n",
              "      <th>last_name</th>\n",
              "      <th>company_name</th>\n",
              "      <th>address</th>\n",
              "      <th>city</th>\n",
              "      <th>county</th>\n",
              "      <th>postal</th>\n",
              "      <th>phone1</th>\n",
              "      <th>phone2</th>\n",
              "      <th>email</th>\n",
              "      <th>web</th>\n",
              "    </tr>\n",
              "  </thead>\n",
              "  <tbody>\n",
              "    <tr>\n",
              "      <th>0</th>\n",
              "      <td>Aleshia</td>\n",
              "      <td>Tomkiewicz</td>\n",
              "      <td>Alan D Rosenburg Cpa Pc</td>\n",
              "      <td>14 Taylor St</td>\n",
              "      <td>St. Stephens Ward</td>\n",
              "      <td>Kent</td>\n",
              "      <td>CT2 7PP</td>\n",
              "      <td>01835-703597</td>\n",
              "      <td>01944-369967</td>\n",
              "      <td>atomkiewicz@hotmail.com</td>\n",
              "      <td>http://www.alandrosenburgcpapc.co.uk</td>\n",
              "    </tr>\n",
              "    <tr>\n",
              "      <th>1</th>\n",
              "      <td>Evan</td>\n",
              "      <td>Zigomalas</td>\n",
              "      <td>Cap Gemini America</td>\n",
              "      <td>5 Binney St</td>\n",
              "      <td>Abbey Ward</td>\n",
              "      <td>Buckinghamshire</td>\n",
              "      <td>HP11 2AX</td>\n",
              "      <td>01937-864715</td>\n",
              "      <td>01714-737668</td>\n",
              "      <td>evan.zigomalas@gmail.com</td>\n",
              "      <td>http://www.capgeminiamerica.co.uk</td>\n",
              "    </tr>\n",
              "    <tr>\n",
              "      <th>2</th>\n",
              "      <td>France</td>\n",
              "      <td>Andrade</td>\n",
              "      <td>Elliott, John W Esq</td>\n",
              "      <td>8 Moor Place</td>\n",
              "      <td>East Southbourne and Tuckton W</td>\n",
              "      <td>Bournemouth</td>\n",
              "      <td>BH6 3BE</td>\n",
              "      <td>01347-368222</td>\n",
              "      <td>01935-821636</td>\n",
              "      <td>france.andrade@hotmail.com</td>\n",
              "      <td>http://www.elliottjohnwesq.co.uk</td>\n",
              "    </tr>\n",
              "    <tr>\n",
              "      <th>3</th>\n",
              "      <td>Ulysses</td>\n",
              "      <td>Mcwalters</td>\n",
              "      <td>Mcmahan, Ben L</td>\n",
              "      <td>505 Exeter Rd</td>\n",
              "      <td>Hawerby cum Beesby</td>\n",
              "      <td>Lincolnshire</td>\n",
              "      <td>DN36 5RP</td>\n",
              "      <td>01912-771311</td>\n",
              "      <td>01302-601380</td>\n",
              "      <td>ulysses@hotmail.com</td>\n",
              "      <td>http://www.mcmahanbenl.co.uk</td>\n",
              "    </tr>\n",
              "    <tr>\n",
              "      <th>4</th>\n",
              "      <td>Tyisha</td>\n",
              "      <td>Veness</td>\n",
              "      <td>Champagne Room</td>\n",
              "      <td>5396 Forth Street</td>\n",
              "      <td>Greets Green and Lyng Ward</td>\n",
              "      <td>West Midlands</td>\n",
              "      <td>B70 9DT</td>\n",
              "      <td>01547-429341</td>\n",
              "      <td>01290-367248</td>\n",
              "      <td>tyisha.veness@hotmail.com</td>\n",
              "      <td>http://www.champagneroom.co.uk</td>\n",
              "    </tr>\n",
              "  </tbody>\n",
              "</table>\n",
              "</div>"
            ],
            "text/plain": [
              "  first_name  ...                                   web\n",
              "0    Aleshia  ...  http://www.alandrosenburgcpapc.co.uk\n",
              "1       Evan  ...     http://www.capgeminiamerica.co.uk\n",
              "2     France  ...      http://www.elliottjohnwesq.co.uk\n",
              "3    Ulysses  ...          http://www.mcmahanbenl.co.uk\n",
              "4     Tyisha  ...        http://www.champagneroom.co.uk\n",
              "\n",
              "[5 rows x 11 columns]"
            ]
          },
          "metadata": {
            "tags": []
          },
          "execution_count": 15
        }
      ]
    },
    {
      "cell_type": "markdown",
      "metadata": {
        "id": "oNTSsL42hDjs"
      },
      "source": [
        "first two colums"
      ]
    },
    {
      "cell_type": "code",
      "metadata": {
        "colab": {
          "base_uri": "https://localhost:8080/",
          "height": 419
        },
        "id": "rW47dL8shFJ8",
        "outputId": "6f85f1cc-d257-439d-90ad-739e1fa6b0e7"
      },
      "source": [
        "data.iloc[:,0:2]"
      ],
      "execution_count": 16,
      "outputs": [
        {
          "output_type": "execute_result",
          "data": {
            "text/html": [
              "<div>\n",
              "<style scoped>\n",
              "    .dataframe tbody tr th:only-of-type {\n",
              "        vertical-align: middle;\n",
              "    }\n",
              "\n",
              "    .dataframe tbody tr th {\n",
              "        vertical-align: top;\n",
              "    }\n",
              "\n",
              "    .dataframe thead th {\n",
              "        text-align: right;\n",
              "    }\n",
              "</style>\n",
              "<table border=\"1\" class=\"dataframe\">\n",
              "  <thead>\n",
              "    <tr style=\"text-align: right;\">\n",
              "      <th></th>\n",
              "      <th>first_name</th>\n",
              "      <th>last_name</th>\n",
              "    </tr>\n",
              "  </thead>\n",
              "  <tbody>\n",
              "    <tr>\n",
              "      <th>0</th>\n",
              "      <td>Aleshia</td>\n",
              "      <td>Tomkiewicz</td>\n",
              "    </tr>\n",
              "    <tr>\n",
              "      <th>1</th>\n",
              "      <td>Evan</td>\n",
              "      <td>Zigomalas</td>\n",
              "    </tr>\n",
              "    <tr>\n",
              "      <th>2</th>\n",
              "      <td>France</td>\n",
              "      <td>Andrade</td>\n",
              "    </tr>\n",
              "    <tr>\n",
              "      <th>3</th>\n",
              "      <td>Ulysses</td>\n",
              "      <td>Mcwalters</td>\n",
              "    </tr>\n",
              "    <tr>\n",
              "      <th>4</th>\n",
              "      <td>Tyisha</td>\n",
              "      <td>Veness</td>\n",
              "    </tr>\n",
              "    <tr>\n",
              "      <th>...</th>\n",
              "      <td>...</td>\n",
              "      <td>...</td>\n",
              "    </tr>\n",
              "    <tr>\n",
              "      <th>495</th>\n",
              "      <td>Avery</td>\n",
              "      <td>Veit</td>\n",
              "    </tr>\n",
              "    <tr>\n",
              "      <th>496</th>\n",
              "      <td>Reid</td>\n",
              "      <td>Euresti</td>\n",
              "    </tr>\n",
              "    <tr>\n",
              "      <th>497</th>\n",
              "      <td>Charlette</td>\n",
              "      <td>Brenning</td>\n",
              "    </tr>\n",
              "    <tr>\n",
              "      <th>498</th>\n",
              "      <td>Celestina</td>\n",
              "      <td>Keeny</td>\n",
              "    </tr>\n",
              "    <tr>\n",
              "      <th>499</th>\n",
              "      <td>Mi</td>\n",
              "      <td>Richan</td>\n",
              "    </tr>\n",
              "  </tbody>\n",
              "</table>\n",
              "<p>500 rows × 2 columns</p>\n",
              "</div>"
            ],
            "text/plain": [
              "    first_name   last_name\n",
              "0      Aleshia  Tomkiewicz\n",
              "1         Evan   Zigomalas\n",
              "2       France     Andrade\n",
              "3      Ulysses   Mcwalters\n",
              "4       Tyisha      Veness\n",
              "..         ...         ...\n",
              "495      Avery        Veit\n",
              "496       Reid     Euresti\n",
              "497  Charlette    Brenning\n",
              "498  Celestina       Keeny\n",
              "499         Mi      Richan\n",
              "\n",
              "[500 rows x 2 columns]"
            ]
          },
          "metadata": {
            "tags": []
          },
          "execution_count": 16
        }
      ]
    },
    {
      "cell_type": "markdown",
      "metadata": {
        "id": "AFkeKsGYhP2L"
      },
      "source": [
        "select a set of rows and columns"
      ]
    },
    {
      "cell_type": "code",
      "metadata": {
        "colab": {
          "base_uri": "https://localhost:8080/",
          "height": 173
        },
        "id": "yoQks-wWhM3T",
        "outputId": "0d9b753a-2052-4056-bd53-94c016ebe0f9"
      },
      "source": [
        "data.iloc[[0,3,6,24],[0,5,6]]"
      ],
      "execution_count": 17,
      "outputs": [
        {
          "output_type": "execute_result",
          "data": {
            "text/html": [
              "<div>\n",
              "<style scoped>\n",
              "    .dataframe tbody tr th:only-of-type {\n",
              "        vertical-align: middle;\n",
              "    }\n",
              "\n",
              "    .dataframe tbody tr th {\n",
              "        vertical-align: top;\n",
              "    }\n",
              "\n",
              "    .dataframe thead th {\n",
              "        text-align: right;\n",
              "    }\n",
              "</style>\n",
              "<table border=\"1\" class=\"dataframe\">\n",
              "  <thead>\n",
              "    <tr style=\"text-align: right;\">\n",
              "      <th></th>\n",
              "      <th>first_name</th>\n",
              "      <th>county</th>\n",
              "      <th>postal</th>\n",
              "    </tr>\n",
              "  </thead>\n",
              "  <tbody>\n",
              "    <tr>\n",
              "      <th>0</th>\n",
              "      <td>Aleshia</td>\n",
              "      <td>Kent</td>\n",
              "      <td>CT2 7PP</td>\n",
              "    </tr>\n",
              "    <tr>\n",
              "      <th>3</th>\n",
              "      <td>Ulysses</td>\n",
              "      <td>Lincolnshire</td>\n",
              "      <td>DN36 5RP</td>\n",
              "    </tr>\n",
              "    <tr>\n",
              "      <th>6</th>\n",
              "      <td>Marg</td>\n",
              "      <td>Southampton</td>\n",
              "      <td>SO14 3TY</td>\n",
              "    </tr>\n",
              "    <tr>\n",
              "      <th>24</th>\n",
              "      <td>Tess</td>\n",
              "      <td>West Sussex</td>\n",
              "      <td>PO19 1RH</td>\n",
              "    </tr>\n",
              "  </tbody>\n",
              "</table>\n",
              "</div>"
            ],
            "text/plain": [
              "   first_name        county    postal\n",
              "0     Aleshia          Kent   CT2 7PP\n",
              "3     Ulysses  Lincolnshire  DN36 5RP\n",
              "6        Marg   Southampton  SO14 3TY\n",
              "24       Tess   West Sussex  PO19 1RH"
            ]
          },
          "metadata": {
            "tags": []
          },
          "execution_count": 17
        }
      ]
    },
    {
      "cell_type": "code",
      "metadata": {
        "colab": {
          "base_uri": "https://localhost:8080/",
          "height": 204
        },
        "id": "Qr6rAOuQhaOe",
        "outputId": "53d241ac-4011-4bcc-aba0-85ae9c88db9e"
      },
      "source": [
        "data.iloc[0:5,5:8]"
      ],
      "execution_count": 18,
      "outputs": [
        {
          "output_type": "execute_result",
          "data": {
            "text/html": [
              "<div>\n",
              "<style scoped>\n",
              "    .dataframe tbody tr th:only-of-type {\n",
              "        vertical-align: middle;\n",
              "    }\n",
              "\n",
              "    .dataframe tbody tr th {\n",
              "        vertical-align: top;\n",
              "    }\n",
              "\n",
              "    .dataframe thead th {\n",
              "        text-align: right;\n",
              "    }\n",
              "</style>\n",
              "<table border=\"1\" class=\"dataframe\">\n",
              "  <thead>\n",
              "    <tr style=\"text-align: right;\">\n",
              "      <th></th>\n",
              "      <th>county</th>\n",
              "      <th>postal</th>\n",
              "      <th>phone1</th>\n",
              "    </tr>\n",
              "  </thead>\n",
              "  <tbody>\n",
              "    <tr>\n",
              "      <th>0</th>\n",
              "      <td>Kent</td>\n",
              "      <td>CT2 7PP</td>\n",
              "      <td>01835-703597</td>\n",
              "    </tr>\n",
              "    <tr>\n",
              "      <th>1</th>\n",
              "      <td>Buckinghamshire</td>\n",
              "      <td>HP11 2AX</td>\n",
              "      <td>01937-864715</td>\n",
              "    </tr>\n",
              "    <tr>\n",
              "      <th>2</th>\n",
              "      <td>Bournemouth</td>\n",
              "      <td>BH6 3BE</td>\n",
              "      <td>01347-368222</td>\n",
              "    </tr>\n",
              "    <tr>\n",
              "      <th>3</th>\n",
              "      <td>Lincolnshire</td>\n",
              "      <td>DN36 5RP</td>\n",
              "      <td>01912-771311</td>\n",
              "    </tr>\n",
              "    <tr>\n",
              "      <th>4</th>\n",
              "      <td>West Midlands</td>\n",
              "      <td>B70 9DT</td>\n",
              "      <td>01547-429341</td>\n",
              "    </tr>\n",
              "  </tbody>\n",
              "</table>\n",
              "</div>"
            ],
            "text/plain": [
              "            county    postal        phone1\n",
              "0             Kent   CT2 7PP  01835-703597\n",
              "1  Buckinghamshire  HP11 2AX  01937-864715\n",
              "2      Bournemouth   BH6 3BE  01347-368222\n",
              "3     Lincolnshire  DN36 5RP  01912-771311\n",
              "4    West Midlands   B70 9DT  01547-429341"
            ]
          },
          "metadata": {
            "tags": []
          },
          "execution_count": 18
        }
      ]
    },
    {
      "cell_type": "markdown",
      "metadata": {
        "id": "pwcTn_3ChlYN"
      },
      "source": [
        "To be indexed on the last name"
      ]
    },
    {
      "cell_type": "code",
      "metadata": {
        "colab": {
          "base_uri": "https://localhost:8080/",
          "height": 425
        },
        "id": "-otGuejlhdyV",
        "outputId": "451c2eb8-2d26-4adc-d9f2-e0d39c479e83"
      },
      "source": [
        "data.set_index(\"last_name\",inplace=True)\n",
        "data.head()"
      ],
      "execution_count": 19,
      "outputs": [
        {
          "output_type": "execute_result",
          "data": {
            "text/html": [
              "<div>\n",
              "<style scoped>\n",
              "    .dataframe tbody tr th:only-of-type {\n",
              "        vertical-align: middle;\n",
              "    }\n",
              "\n",
              "    .dataframe tbody tr th {\n",
              "        vertical-align: top;\n",
              "    }\n",
              "\n",
              "    .dataframe thead th {\n",
              "        text-align: right;\n",
              "    }\n",
              "</style>\n",
              "<table border=\"1\" class=\"dataframe\">\n",
              "  <thead>\n",
              "    <tr style=\"text-align: right;\">\n",
              "      <th></th>\n",
              "      <th>first_name</th>\n",
              "      <th>company_name</th>\n",
              "      <th>address</th>\n",
              "      <th>city</th>\n",
              "      <th>county</th>\n",
              "      <th>postal</th>\n",
              "      <th>phone1</th>\n",
              "      <th>phone2</th>\n",
              "      <th>email</th>\n",
              "      <th>web</th>\n",
              "    </tr>\n",
              "    <tr>\n",
              "      <th>last_name</th>\n",
              "      <th></th>\n",
              "      <th></th>\n",
              "      <th></th>\n",
              "      <th></th>\n",
              "      <th></th>\n",
              "      <th></th>\n",
              "      <th></th>\n",
              "      <th></th>\n",
              "      <th></th>\n",
              "      <th></th>\n",
              "    </tr>\n",
              "  </thead>\n",
              "  <tbody>\n",
              "    <tr>\n",
              "      <th>Tomkiewicz</th>\n",
              "      <td>Aleshia</td>\n",
              "      <td>Alan D Rosenburg Cpa Pc</td>\n",
              "      <td>14 Taylor St</td>\n",
              "      <td>St. Stephens Ward</td>\n",
              "      <td>Kent</td>\n",
              "      <td>CT2 7PP</td>\n",
              "      <td>01835-703597</td>\n",
              "      <td>01944-369967</td>\n",
              "      <td>atomkiewicz@hotmail.com</td>\n",
              "      <td>http://www.alandrosenburgcpapc.co.uk</td>\n",
              "    </tr>\n",
              "    <tr>\n",
              "      <th>Zigomalas</th>\n",
              "      <td>Evan</td>\n",
              "      <td>Cap Gemini America</td>\n",
              "      <td>5 Binney St</td>\n",
              "      <td>Abbey Ward</td>\n",
              "      <td>Buckinghamshire</td>\n",
              "      <td>HP11 2AX</td>\n",
              "      <td>01937-864715</td>\n",
              "      <td>01714-737668</td>\n",
              "      <td>evan.zigomalas@gmail.com</td>\n",
              "      <td>http://www.capgeminiamerica.co.uk</td>\n",
              "    </tr>\n",
              "    <tr>\n",
              "      <th>Andrade</th>\n",
              "      <td>France</td>\n",
              "      <td>Elliott, John W Esq</td>\n",
              "      <td>8 Moor Place</td>\n",
              "      <td>East Southbourne and Tuckton W</td>\n",
              "      <td>Bournemouth</td>\n",
              "      <td>BH6 3BE</td>\n",
              "      <td>01347-368222</td>\n",
              "      <td>01935-821636</td>\n",
              "      <td>france.andrade@hotmail.com</td>\n",
              "      <td>http://www.elliottjohnwesq.co.uk</td>\n",
              "    </tr>\n",
              "    <tr>\n",
              "      <th>Mcwalters</th>\n",
              "      <td>Ulysses</td>\n",
              "      <td>Mcmahan, Ben L</td>\n",
              "      <td>505 Exeter Rd</td>\n",
              "      <td>Hawerby cum Beesby</td>\n",
              "      <td>Lincolnshire</td>\n",
              "      <td>DN36 5RP</td>\n",
              "      <td>01912-771311</td>\n",
              "      <td>01302-601380</td>\n",
              "      <td>ulysses@hotmail.com</td>\n",
              "      <td>http://www.mcmahanbenl.co.uk</td>\n",
              "    </tr>\n",
              "    <tr>\n",
              "      <th>Veness</th>\n",
              "      <td>Tyisha</td>\n",
              "      <td>Champagne Room</td>\n",
              "      <td>5396 Forth Street</td>\n",
              "      <td>Greets Green and Lyng Ward</td>\n",
              "      <td>West Midlands</td>\n",
              "      <td>B70 9DT</td>\n",
              "      <td>01547-429341</td>\n",
              "      <td>01290-367248</td>\n",
              "      <td>tyisha.veness@hotmail.com</td>\n",
              "      <td>http://www.champagneroom.co.uk</td>\n",
              "    </tr>\n",
              "  </tbody>\n",
              "</table>\n",
              "</div>"
            ],
            "text/plain": [
              "           first_name  ...                                   web\n",
              "last_name              ...                                      \n",
              "Tomkiewicz    Aleshia  ...  http://www.alandrosenburgcpapc.co.uk\n",
              "Zigomalas        Evan  ...     http://www.capgeminiamerica.co.uk\n",
              "Andrade        France  ...      http://www.elliottjohnwesq.co.uk\n",
              "Mcwalters     Ulysses  ...          http://www.mcmahanbenl.co.uk\n",
              "Veness         Tyisha  ...        http://www.champagneroom.co.uk\n",
              "\n",
              "[5 rows x 10 columns]"
            ]
          },
          "metadata": {
            "tags": []
          },
          "execution_count": 19
        }
      ]
    },
    {
      "cell_type": "markdown",
      "metadata": {
        "id": "Og6MXTOQhqCc"
      },
      "source": [
        "inlcude the nth row/column as well. (loc b/c based on values in record)"
      ]
    },
    {
      "cell_type": "code",
      "metadata": {
        "colab": {
          "base_uri": "https://localhost:8080/",
          "height": 176
        },
        "id": "Y8ulqUffhp2q",
        "outputId": "751bb7c3-2326-468b-f7f6-b4d8eaa1e4e8"
      },
      "source": [
        "data.loc[['Andrade','Veness'],'city':'email']"
      ],
      "execution_count": 23,
      "outputs": [
        {
          "output_type": "execute_result",
          "data": {
            "text/html": [
              "<div>\n",
              "<style scoped>\n",
              "    .dataframe tbody tr th:only-of-type {\n",
              "        vertical-align: middle;\n",
              "    }\n",
              "\n",
              "    .dataframe tbody tr th {\n",
              "        vertical-align: top;\n",
              "    }\n",
              "\n",
              "    .dataframe thead th {\n",
              "        text-align: right;\n",
              "    }\n",
              "</style>\n",
              "<table border=\"1\" class=\"dataframe\">\n",
              "  <thead>\n",
              "    <tr style=\"text-align: right;\">\n",
              "      <th></th>\n",
              "      <th>city</th>\n",
              "      <th>county</th>\n",
              "      <th>postal</th>\n",
              "      <th>phone1</th>\n",
              "      <th>phone2</th>\n",
              "      <th>email</th>\n",
              "    </tr>\n",
              "    <tr>\n",
              "      <th>last_name</th>\n",
              "      <th></th>\n",
              "      <th></th>\n",
              "      <th></th>\n",
              "      <th></th>\n",
              "      <th></th>\n",
              "      <th></th>\n",
              "    </tr>\n",
              "  </thead>\n",
              "  <tbody>\n",
              "    <tr>\n",
              "      <th>Andrade</th>\n",
              "      <td>East Southbourne and Tuckton W</td>\n",
              "      <td>Bournemouth</td>\n",
              "      <td>BH6 3BE</td>\n",
              "      <td>01347-368222</td>\n",
              "      <td>01935-821636</td>\n",
              "      <td>france.andrade@hotmail.com</td>\n",
              "    </tr>\n",
              "    <tr>\n",
              "      <th>Veness</th>\n",
              "      <td>Greets Green and Lyng Ward</td>\n",
              "      <td>West Midlands</td>\n",
              "      <td>B70 9DT</td>\n",
              "      <td>01547-429341</td>\n",
              "      <td>01290-367248</td>\n",
              "      <td>tyisha.veness@hotmail.com</td>\n",
              "    </tr>\n",
              "  </tbody>\n",
              "</table>\n",
              "</div>"
            ],
            "text/plain": [
              "                                     city  ...                       email\n",
              "last_name                                  ...                            \n",
              "Andrade    East Southbourne and Tuckton W  ...  france.andrade@hotmail.com\n",
              "Veness         Greets Green and Lyng Ward  ...   tyisha.veness@hotmail.com\n",
              "\n",
              "[2 rows x 6 columns]"
            ]
          },
          "metadata": {
            "tags": []
          },
          "execution_count": 23
        }
      ]
    },
    {
      "cell_type": "code",
      "metadata": {
        "colab": {
          "base_uri": "https://localhost:8080/",
          "height": 224
        },
        "id": "Rt1ghyK0iS8j",
        "outputId": "38d77ff3-4924-4b75-ed25-a49cf806311d"
      },
      "source": [
        "data.loc[data['first_name']=='Antonio', 'city':'email']"
      ],
      "execution_count": 26,
      "outputs": [
        {
          "output_type": "execute_result",
          "data": {
            "text/html": [
              "<div>\n",
              "<style scoped>\n",
              "    .dataframe tbody tr th:only-of-type {\n",
              "        vertical-align: middle;\n",
              "    }\n",
              "\n",
              "    .dataframe tbody tr th {\n",
              "        vertical-align: top;\n",
              "    }\n",
              "\n",
              "    .dataframe thead th {\n",
              "        text-align: right;\n",
              "    }\n",
              "</style>\n",
              "<table border=\"1\" class=\"dataframe\">\n",
              "  <thead>\n",
              "    <tr style=\"text-align: right;\">\n",
              "      <th></th>\n",
              "      <th>city</th>\n",
              "      <th>county</th>\n",
              "      <th>postal</th>\n",
              "      <th>phone1</th>\n",
              "      <th>phone2</th>\n",
              "      <th>email</th>\n",
              "    </tr>\n",
              "    <tr>\n",
              "      <th>last_name</th>\n",
              "      <th></th>\n",
              "      <th></th>\n",
              "      <th></th>\n",
              "      <th></th>\n",
              "      <th></th>\n",
              "      <th></th>\n",
              "    </tr>\n",
              "  </thead>\n",
              "  <tbody>\n",
              "    <tr>\n",
              "      <th>Villamarin</th>\n",
              "      <td>Little Parndon and Hare Street</td>\n",
              "      <td>Hertfordshire</td>\n",
              "      <td>CM20 2HT</td>\n",
              "      <td>01559-403415</td>\n",
              "      <td>01388-777812</td>\n",
              "      <td>antonio.villamarin@gmail.com</td>\n",
              "    </tr>\n",
              "    <tr>\n",
              "      <th>Glasford</th>\n",
              "      <td>Gaer Community</td>\n",
              "      <td>Newport</td>\n",
              "      <td>NP20 3DE</td>\n",
              "      <td>01463-409090</td>\n",
              "      <td>01242-318420</td>\n",
              "      <td>antonio_glasford@glasford.co.uk</td>\n",
              "    </tr>\n",
              "    <tr>\n",
              "      <th>Heilig</th>\n",
              "      <td>Ipplepen</td>\n",
              "      <td>Devon</td>\n",
              "      <td>TQ12 5LL</td>\n",
              "      <td>01324-171614</td>\n",
              "      <td>01442-946357</td>\n",
              "      <td>antonio.heilig@gmail.com</td>\n",
              "    </tr>\n",
              "  </tbody>\n",
              "</table>\n",
              "</div>"
            ],
            "text/plain": [
              "                                      city  ...                            email\n",
              "last_name                                   ...                                 \n",
              "Villamarin  Little Parndon and Hare Street  ...     antonio.villamarin@gmail.com\n",
              "Glasford                    Gaer Community  ...  antonio_glasford@glasford.co.uk\n",
              "Heilig                            Ipplepen  ...         antonio.heilig@gmail.com\n",
              "\n",
              "[3 rows x 6 columns]"
            ]
          },
          "metadata": {
            "tags": []
          },
          "execution_count": 26
        }
      ]
    },
    {
      "cell_type": "code",
      "metadata": {
        "colab": {
          "base_uri": "https://localhost:8080/",
          "height": 111
        },
        "id": "5TjFQsTgiaAH",
        "outputId": "d50b32f4-f37d-450e-e98c-270d3a45b5e1"
      },
      "source": [
        "data.loc[((data['county']=='Kent')& (data['first_name']=='Aleshia')),'city':'email']"
      ],
      "execution_count": 30,
      "outputs": [
        {
          "output_type": "execute_result",
          "data": {
            "text/html": [
              "<div>\n",
              "<style scoped>\n",
              "    .dataframe tbody tr th:only-of-type {\n",
              "        vertical-align: middle;\n",
              "    }\n",
              "\n",
              "    .dataframe tbody tr th {\n",
              "        vertical-align: top;\n",
              "    }\n",
              "\n",
              "    .dataframe thead th {\n",
              "        text-align: right;\n",
              "    }\n",
              "</style>\n",
              "<table border=\"1\" class=\"dataframe\">\n",
              "  <thead>\n",
              "    <tr style=\"text-align: right;\">\n",
              "      <th></th>\n",
              "      <th>city</th>\n",
              "      <th>county</th>\n",
              "      <th>postal</th>\n",
              "      <th>phone1</th>\n",
              "      <th>phone2</th>\n",
              "      <th>email</th>\n",
              "    </tr>\n",
              "    <tr>\n",
              "      <th>last_name</th>\n",
              "      <th></th>\n",
              "      <th></th>\n",
              "      <th></th>\n",
              "      <th></th>\n",
              "      <th></th>\n",
              "      <th></th>\n",
              "    </tr>\n",
              "  </thead>\n",
              "  <tbody>\n",
              "    <tr>\n",
              "      <th>Tomkiewicz</th>\n",
              "      <td>St. Stephens Ward</td>\n",
              "      <td>Kent</td>\n",
              "      <td>CT2 7PP</td>\n",
              "      <td>01835-703597</td>\n",
              "      <td>01944-369967</td>\n",
              "      <td>atomkiewicz@hotmail.com</td>\n",
              "    </tr>\n",
              "  </tbody>\n",
              "</table>\n",
              "</div>"
            ],
            "text/plain": [
              "                         city county  ...        phone2                    email\n",
              "last_name                             ...                                       \n",
              "Tomkiewicz  St. Stephens Ward   Kent  ...  01944-369967  atomkiewicz@hotmail.com\n",
              "\n",
              "[1 rows x 6 columns]"
            ]
          },
          "metadata": {
            "tags": []
          },
          "execution_count": 30
        }
      ]
    },
    {
      "cell_type": "code",
      "metadata": {
        "colab": {
          "base_uri": "https://localhost:8080/",
          "height": 725
        },
        "id": "RCaeATQyjCWe",
        "outputId": "cf616ada-96c3-4c0d-d8e8-4bde39de5f23"
      },
      "source": [
        "#display all the gamil ids\n",
        "data.loc[data['email'].str.endswith(\"gmail.com\")]"
      ],
      "execution_count": 27,
      "outputs": [
        {
          "output_type": "execute_result",
          "data": {
            "text/html": [
              "<div>\n",
              "<style scoped>\n",
              "    .dataframe tbody tr th:only-of-type {\n",
              "        vertical-align: middle;\n",
              "    }\n",
              "\n",
              "    .dataframe tbody tr th {\n",
              "        vertical-align: top;\n",
              "    }\n",
              "\n",
              "    .dataframe thead th {\n",
              "        text-align: right;\n",
              "    }\n",
              "</style>\n",
              "<table border=\"1\" class=\"dataframe\">\n",
              "  <thead>\n",
              "    <tr style=\"text-align: right;\">\n",
              "      <th></th>\n",
              "      <th>first_name</th>\n",
              "      <th>company_name</th>\n",
              "      <th>address</th>\n",
              "      <th>city</th>\n",
              "      <th>county</th>\n",
              "      <th>postal</th>\n",
              "      <th>phone1</th>\n",
              "      <th>phone2</th>\n",
              "      <th>email</th>\n",
              "      <th>web</th>\n",
              "    </tr>\n",
              "    <tr>\n",
              "      <th>last_name</th>\n",
              "      <th></th>\n",
              "      <th></th>\n",
              "      <th></th>\n",
              "      <th></th>\n",
              "      <th></th>\n",
              "      <th></th>\n",
              "      <th></th>\n",
              "      <th></th>\n",
              "      <th></th>\n",
              "      <th></th>\n",
              "    </tr>\n",
              "  </thead>\n",
              "  <tbody>\n",
              "    <tr>\n",
              "      <th>Zigomalas</th>\n",
              "      <td>Evan</td>\n",
              "      <td>Cap Gemini America</td>\n",
              "      <td>5 Binney St</td>\n",
              "      <td>Abbey Ward</td>\n",
              "      <td>Buckinghamshire</td>\n",
              "      <td>HP11 2AX</td>\n",
              "      <td>01937-864715</td>\n",
              "      <td>01714-737668</td>\n",
              "      <td>evan.zigomalas@gmail.com</td>\n",
              "      <td>http://www.capgeminiamerica.co.uk</td>\n",
              "    </tr>\n",
              "    <tr>\n",
              "      <th>Erm</th>\n",
              "      <td>Charlesetta</td>\n",
              "      <td>Cain, John M Esq</td>\n",
              "      <td>5 Hygeia St</td>\n",
              "      <td>Loundsley Green Ward</td>\n",
              "      <td>Derbyshire</td>\n",
              "      <td>S40 4LY</td>\n",
              "      <td>01276-816806</td>\n",
              "      <td>01517-624517</td>\n",
              "      <td>charlesetta_erm@gmail.com</td>\n",
              "      <td>http://www.cainjohnmesq.co.uk</td>\n",
              "    </tr>\n",
              "    <tr>\n",
              "      <th>Jaret</th>\n",
              "      <td>Corrinne</td>\n",
              "      <td>Sound Vision Corp</td>\n",
              "      <td>2150 Morley St</td>\n",
              "      <td>Dee Ward</td>\n",
              "      <td>Dumfries and Galloway</td>\n",
              "      <td>DG8 7DE</td>\n",
              "      <td>01625-932209</td>\n",
              "      <td>01642-322954</td>\n",
              "      <td>corrinne_jaret@gmail.com</td>\n",
              "      <td>http://www.soundvisioncorp.co.uk</td>\n",
              "    </tr>\n",
              "    <tr>\n",
              "      <th>Quarto</th>\n",
              "      <td>Karma</td>\n",
              "      <td>J C S Machinery</td>\n",
              "      <td>1 Birkett St</td>\n",
              "      <td>Shard End Ward</td>\n",
              "      <td>West Midlands</td>\n",
              "      <td>B33 0NH</td>\n",
              "      <td>01857-864722</td>\n",
              "      <td>01307-667811</td>\n",
              "      <td>kquarto@gmail.com</td>\n",
              "      <td>http://www.jcsmachinery.co.uk</td>\n",
              "    </tr>\n",
              "    <tr>\n",
              "      <th>Savidge</th>\n",
              "      <td>Milly</td>\n",
              "      <td>Bridgeway Plan For Health</td>\n",
              "      <td>129 Alexander Pope St</td>\n",
              "      <td>Franche Ward</td>\n",
              "      <td>Hereford and Worcester</td>\n",
              "      <td>DY11 9BW</td>\n",
              "      <td>01702-725589</td>\n",
              "      <td>01421-132652</td>\n",
              "      <td>milly@gmail.com</td>\n",
              "      <td>http://www.bridgewayplanforhealth.co.uk</td>\n",
              "    </tr>\n",
              "    <tr>\n",
              "      <th>...</th>\n",
              "      <td>...</td>\n",
              "      <td>...</td>\n",
              "      <td>...</td>\n",
              "      <td>...</td>\n",
              "      <td>...</td>\n",
              "      <td>...</td>\n",
              "      <td>...</td>\n",
              "      <td>...</td>\n",
              "      <td>...</td>\n",
              "      <td>...</td>\n",
              "    </tr>\n",
              "    <tr>\n",
              "      <th>Picciuto</th>\n",
              "      <td>Mel</td>\n",
              "      <td>Avante Limited</td>\n",
              "      <td>8598 Rumney Rd</td>\n",
              "      <td>Hylands Ward</td>\n",
              "      <td>Essex</td>\n",
              "      <td>RM11 1QL</td>\n",
              "      <td>01885-270480</td>\n",
              "      <td>01268-443299</td>\n",
              "      <td>mel.picciuto@gmail.com</td>\n",
              "      <td>http://www.avantelimited.co.uk</td>\n",
              "    </tr>\n",
              "    <tr>\n",
              "      <th>Machalek</th>\n",
              "      <td>Tijuana</td>\n",
              "      <td>Schwartz, Thomas E Esq</td>\n",
              "      <td>1149 Highfield Rd #996</td>\n",
              "      <td>Fareham South Ward</td>\n",
              "      <td>Hampshire</td>\n",
              "      <td>PO14 9JJ</td>\n",
              "      <td>01242-532395</td>\n",
              "      <td>01336-686264</td>\n",
              "      <td>tijuana.machalek@gmail.com</td>\n",
              "      <td>http://www.schwartzthomaseesq.co.uk</td>\n",
              "    </tr>\n",
              "    <tr>\n",
              "      <th>Dolloff</th>\n",
              "      <td>Derrick</td>\n",
              "      <td>Proto Tek Manufacturing</td>\n",
              "      <td>236 Blantyre Rd</td>\n",
              "      <td>Everton Ward</td>\n",
              "      <td>Merseyside</td>\n",
              "      <td>L6 2EN</td>\n",
              "      <td>01982-734773</td>\n",
              "      <td>01619-554437</td>\n",
              "      <td>derrick_dolloff@gmail.com</td>\n",
              "      <td>http://www.prototekmanufacturing.co.uk</td>\n",
              "    </tr>\n",
              "    <tr>\n",
              "      <th>Katie</th>\n",
              "      <td>Alesia</td>\n",
              "      <td>Nelsons Trmt &amp; Pest Cntrl Co</td>\n",
              "      <td>4 Covent Garden</td>\n",
              "      <td>Farnworth Ward</td>\n",
              "      <td>Greater Manchester</td>\n",
              "      <td>BL4 7AF</td>\n",
              "      <td>01333-436799</td>\n",
              "      <td>01240-614527</td>\n",
              "      <td>alesia_katie@gmail.com</td>\n",
              "      <td>http://www.nelsonstrmtpestcntrlco.co.uk</td>\n",
              "    </tr>\n",
              "    <tr>\n",
              "      <th>Keeny</th>\n",
              "      <td>Celestina</td>\n",
              "      <td>Bfg Federal Credit Union</td>\n",
              "      <td>9 Milton St</td>\n",
              "      <td>Consett North ED</td>\n",
              "      <td>County Durham</td>\n",
              "      <td>DH8 5LP</td>\n",
              "      <td>01877-379681</td>\n",
              "      <td>01600-463475</td>\n",
              "      <td>celestina_keeny@gmail.com</td>\n",
              "      <td>http://www.bfgfederalcreditunion.co.uk</td>\n",
              "    </tr>\n",
              "  </tbody>\n",
              "</table>\n",
              "<p>130 rows × 10 columns</p>\n",
              "</div>"
            ],
            "text/plain": [
              "            first_name  ...                                      web\n",
              "last_name               ...                                         \n",
              "Zigomalas         Evan  ...        http://www.capgeminiamerica.co.uk\n",
              "Erm        Charlesetta  ...            http://www.cainjohnmesq.co.uk\n",
              "Jaret         Corrinne  ...         http://www.soundvisioncorp.co.uk\n",
              "Quarto           Karma  ...            http://www.jcsmachinery.co.uk\n",
              "Savidge          Milly  ...  http://www.bridgewayplanforhealth.co.uk\n",
              "...                ...  ...                                      ...\n",
              "Picciuto           Mel  ...           http://www.avantelimited.co.uk\n",
              "Machalek       Tijuana  ...      http://www.schwartzthomaseesq.co.uk\n",
              "Dolloff        Derrick  ...   http://www.prototekmanufacturing.co.uk\n",
              "Katie           Alesia  ...  http://www.nelsonstrmtpestcntrlco.co.uk\n",
              "Keeny        Celestina  ...   http://www.bfgfederalcreditunion.co.uk\n",
              "\n",
              "[130 rows x 10 columns]"
            ]
          },
          "metadata": {
            "tags": []
          },
          "execution_count": 27
        }
      ]
    },
    {
      "cell_type": "code",
      "metadata": {
        "colab": {
          "base_uri": "https://localhost:8080/",
          "height": 295
        },
        "id": "h_pRadSFjWjq",
        "outputId": "0552cb94-d07d-4d04-d5dc-3716c27362d1"
      },
      "source": [
        "#Display all persons whose first name contains France or Tyisha or Eric\n",
        "data.loc[data['first_name'].isin(['France','Tyisha','Eric'])]"
      ],
      "execution_count": 31,
      "outputs": [
        {
          "output_type": "execute_result",
          "data": {
            "text/html": [
              "<div>\n",
              "<style scoped>\n",
              "    .dataframe tbody tr th:only-of-type {\n",
              "        vertical-align: middle;\n",
              "    }\n",
              "\n",
              "    .dataframe tbody tr th {\n",
              "        vertical-align: top;\n",
              "    }\n",
              "\n",
              "    .dataframe thead th {\n",
              "        text-align: right;\n",
              "    }\n",
              "</style>\n",
              "<table border=\"1\" class=\"dataframe\">\n",
              "  <thead>\n",
              "    <tr style=\"text-align: right;\">\n",
              "      <th></th>\n",
              "      <th>first_name</th>\n",
              "      <th>company_name</th>\n",
              "      <th>address</th>\n",
              "      <th>city</th>\n",
              "      <th>county</th>\n",
              "      <th>postal</th>\n",
              "      <th>phone1</th>\n",
              "      <th>phone2</th>\n",
              "      <th>email</th>\n",
              "      <th>web</th>\n",
              "    </tr>\n",
              "    <tr>\n",
              "      <th>last_name</th>\n",
              "      <th></th>\n",
              "      <th></th>\n",
              "      <th></th>\n",
              "      <th></th>\n",
              "      <th></th>\n",
              "      <th></th>\n",
              "      <th></th>\n",
              "      <th></th>\n",
              "      <th></th>\n",
              "      <th></th>\n",
              "    </tr>\n",
              "  </thead>\n",
              "  <tbody>\n",
              "    <tr>\n",
              "      <th>Andrade</th>\n",
              "      <td>France</td>\n",
              "      <td>Elliott, John W Esq</td>\n",
              "      <td>8 Moor Place</td>\n",
              "      <td>East Southbourne and Tuckton W</td>\n",
              "      <td>Bournemouth</td>\n",
              "      <td>BH6 3BE</td>\n",
              "      <td>01347-368222</td>\n",
              "      <td>01935-821636</td>\n",
              "      <td>france.andrade@hotmail.com</td>\n",
              "      <td>http://www.elliottjohnwesq.co.uk</td>\n",
              "    </tr>\n",
              "    <tr>\n",
              "      <th>Veness</th>\n",
              "      <td>Tyisha</td>\n",
              "      <td>Champagne Room</td>\n",
              "      <td>5396 Forth Street</td>\n",
              "      <td>Greets Green and Lyng Ward</td>\n",
              "      <td>West Midlands</td>\n",
              "      <td>B70 9DT</td>\n",
              "      <td>01547-429341</td>\n",
              "      <td>01290-367248</td>\n",
              "      <td>tyisha.veness@hotmail.com</td>\n",
              "      <td>http://www.champagneroom.co.uk</td>\n",
              "    </tr>\n",
              "    <tr>\n",
              "      <th>Rampy</th>\n",
              "      <td>Eric</td>\n",
              "      <td>Thompson, Michael C Esq</td>\n",
              "      <td>9472 Lind St</td>\n",
              "      <td>Desborough</td>\n",
              "      <td>Northamptonshire</td>\n",
              "      <td>NN14 2GH</td>\n",
              "      <td>01969-886290</td>\n",
              "      <td>01545-817375</td>\n",
              "      <td>erampy@rampy.co.uk</td>\n",
              "      <td>http://www.thompsonmichaelcesq.co.uk</td>\n",
              "    </tr>\n",
              "  </tbody>\n",
              "</table>\n",
              "</div>"
            ],
            "text/plain": [
              "          first_name  ...                                   web\n",
              "last_name             ...                                      \n",
              "Andrade       France  ...      http://www.elliottjohnwesq.co.uk\n",
              "Veness        Tyisha  ...        http://www.champagneroom.co.uk\n",
              "Rampy           Eric  ...  http://www.thompsonmichaelcesq.co.uk\n",
              "\n",
              "[3 rows x 10 columns]"
            ]
          },
          "metadata": {
            "tags": []
          },
          "execution_count": 31
        }
      ]
    },
    {
      "cell_type": "code",
      "metadata": {
        "colab": {
          "base_uri": "https://localhost:8080/",
          "height": 247
        },
        "id": "UcHzixEzjlWZ",
        "outputId": "5a48b2d3-f34c-485c-b8d8-713437c94d7d"
      },
      "source": [
        "#Display people with first name as Antonio and gmail id\n",
        "data.loc[data['email'].str.endswith(\"gmail.com\")&(data['first_name']=='Antonio')]"
      ],
      "execution_count": 32,
      "outputs": [
        {
          "output_type": "execute_result",
          "data": {
            "text/html": [
              "<div>\n",
              "<style scoped>\n",
              "    .dataframe tbody tr th:only-of-type {\n",
              "        vertical-align: middle;\n",
              "    }\n",
              "\n",
              "    .dataframe tbody tr th {\n",
              "        vertical-align: top;\n",
              "    }\n",
              "\n",
              "    .dataframe thead th {\n",
              "        text-align: right;\n",
              "    }\n",
              "</style>\n",
              "<table border=\"1\" class=\"dataframe\">\n",
              "  <thead>\n",
              "    <tr style=\"text-align: right;\">\n",
              "      <th></th>\n",
              "      <th>first_name</th>\n",
              "      <th>company_name</th>\n",
              "      <th>address</th>\n",
              "      <th>city</th>\n",
              "      <th>county</th>\n",
              "      <th>postal</th>\n",
              "      <th>phone1</th>\n",
              "      <th>phone2</th>\n",
              "      <th>email</th>\n",
              "      <th>web</th>\n",
              "    </tr>\n",
              "    <tr>\n",
              "      <th>last_name</th>\n",
              "      <th></th>\n",
              "      <th></th>\n",
              "      <th></th>\n",
              "      <th></th>\n",
              "      <th></th>\n",
              "      <th></th>\n",
              "      <th></th>\n",
              "      <th></th>\n",
              "      <th></th>\n",
              "      <th></th>\n",
              "    </tr>\n",
              "  </thead>\n",
              "  <tbody>\n",
              "    <tr>\n",
              "      <th>Villamarin</th>\n",
              "      <td>Antonio</td>\n",
              "      <td>Combs Sheetmetal</td>\n",
              "      <td>353 Standish St #8264</td>\n",
              "      <td>Little Parndon and Hare Street</td>\n",
              "      <td>Hertfordshire</td>\n",
              "      <td>CM20 2HT</td>\n",
              "      <td>01559-403415</td>\n",
              "      <td>01388-777812</td>\n",
              "      <td>antonio.villamarin@gmail.com</td>\n",
              "      <td>http://www.combssheetmetal.co.uk</td>\n",
              "    </tr>\n",
              "    <tr>\n",
              "      <th>Heilig</th>\n",
              "      <td>Antonio</td>\n",
              "      <td>Radisson Suite Hotel</td>\n",
              "      <td>35 Elton St #3</td>\n",
              "      <td>Ipplepen</td>\n",
              "      <td>Devon</td>\n",
              "      <td>TQ12 5LL</td>\n",
              "      <td>01324-171614</td>\n",
              "      <td>01442-946357</td>\n",
              "      <td>antonio.heilig@gmail.com</td>\n",
              "      <td>http://www.radissonsuitehotel.co.uk</td>\n",
              "    </tr>\n",
              "  </tbody>\n",
              "</table>\n",
              "</div>"
            ],
            "text/plain": [
              "           first_name  ...                                  web\n",
              "last_name              ...                                     \n",
              "Villamarin    Antonio  ...     http://www.combssheetmetal.co.uk\n",
              "Heilig        Antonio  ...  http://www.radissonsuitehotel.co.uk\n",
              "\n",
              "[2 rows x 10 columns]"
            ]
          },
          "metadata": {
            "tags": []
          },
          "execution_count": 32
        }
      ]
    },
    {
      "cell_type": "code",
      "metadata": {
        "colab": {
          "base_uri": "https://localhost:8080/",
          "height": 725
        },
        "id": "xP-XcqhTkK2m",
        "outputId": "abc93f06-8a9f-4b12-920d-18c406b1dac8"
      },
      "source": [
        "#lambda=  a lambda function is just like any normal python function, except that it has no name when defining it, and it is contained in one line of code. \n",
        "#A lambda function evaluates an expression for a given argument. You give the function a value (argument) and then provide the operation (expression.\n",
        "#less space, result immediately\n",
        "#split function \n",
        "#len = length function\n",
        "#operation on company name, splitting based on space. Company name with 4 words ( 4 spaces) \n",
        "\n",
        "#Actual query = Dispaly all persons with company name containing 4 words\n",
        "data.loc[data['company_name'].apply(lambda x:len(x.split(' '))==4)]"
      ],
      "execution_count": 34,
      "outputs": [
        {
          "output_type": "execute_result",
          "data": {
            "text/html": [
              "<div>\n",
              "<style scoped>\n",
              "    .dataframe tbody tr th:only-of-type {\n",
              "        vertical-align: middle;\n",
              "    }\n",
              "\n",
              "    .dataframe tbody tr th {\n",
              "        vertical-align: top;\n",
              "    }\n",
              "\n",
              "    .dataframe thead th {\n",
              "        text-align: right;\n",
              "    }\n",
              "</style>\n",
              "<table border=\"1\" class=\"dataframe\">\n",
              "  <thead>\n",
              "    <tr style=\"text-align: right;\">\n",
              "      <th></th>\n",
              "      <th>first_name</th>\n",
              "      <th>company_name</th>\n",
              "      <th>address</th>\n",
              "      <th>city</th>\n",
              "      <th>county</th>\n",
              "      <th>postal</th>\n",
              "      <th>phone1</th>\n",
              "      <th>phone2</th>\n",
              "      <th>email</th>\n",
              "      <th>web</th>\n",
              "    </tr>\n",
              "    <tr>\n",
              "      <th>last_name</th>\n",
              "      <th></th>\n",
              "      <th></th>\n",
              "      <th></th>\n",
              "      <th></th>\n",
              "      <th></th>\n",
              "      <th></th>\n",
              "      <th></th>\n",
              "      <th></th>\n",
              "      <th></th>\n",
              "      <th></th>\n",
              "    </tr>\n",
              "  </thead>\n",
              "  <tbody>\n",
              "    <tr>\n",
              "      <th>Andrade</th>\n",
              "      <td>France</td>\n",
              "      <td>Elliott, John W Esq</td>\n",
              "      <td>8 Moor Place</td>\n",
              "      <td>East Southbourne and Tuckton W</td>\n",
              "      <td>Bournemouth</td>\n",
              "      <td>BH6 3BE</td>\n",
              "      <td>01347-368222</td>\n",
              "      <td>01935-821636</td>\n",
              "      <td>france.andrade@hotmail.com</td>\n",
              "      <td>http://www.elliottjohnwesq.co.uk</td>\n",
              "    </tr>\n",
              "    <tr>\n",
              "      <th>Rampy</th>\n",
              "      <td>Eric</td>\n",
              "      <td>Thompson, Michael C Esq</td>\n",
              "      <td>9472 Lind St</td>\n",
              "      <td>Desborough</td>\n",
              "      <td>Northamptonshire</td>\n",
              "      <td>NN14 2GH</td>\n",
              "      <td>01969-886290</td>\n",
              "      <td>01545-817375</td>\n",
              "      <td>erampy@rampy.co.uk</td>\n",
              "      <td>http://www.thompsonmichaelcesq.co.uk</td>\n",
              "    </tr>\n",
              "    <tr>\n",
              "      <th>Erm</th>\n",
              "      <td>Charlesetta</td>\n",
              "      <td>Cain, John M Esq</td>\n",
              "      <td>5 Hygeia St</td>\n",
              "      <td>Loundsley Green Ward</td>\n",
              "      <td>Derbyshire</td>\n",
              "      <td>S40 4LY</td>\n",
              "      <td>01276-816806</td>\n",
              "      <td>01517-624517</td>\n",
              "      <td>charlesetta_erm@gmail.com</td>\n",
              "      <td>http://www.cainjohnmesq.co.uk</td>\n",
              "    </tr>\n",
              "    <tr>\n",
              "      <th>Throssell</th>\n",
              "      <td>Michell</td>\n",
              "      <td>Weiss Spirt &amp; Guyer</td>\n",
              "      <td>89 Noon St</td>\n",
              "      <td>Carbrooke</td>\n",
              "      <td>Norfolk</td>\n",
              "      <td>IP25 6JQ</td>\n",
              "      <td>01967-580851</td>\n",
              "      <td>01672-496478</td>\n",
              "      <td>mthrossell@throssell.co.uk</td>\n",
              "      <td>http://www.weissspirtguyer.co.uk</td>\n",
              "    </tr>\n",
              "    <tr>\n",
              "      <th>Kanne</th>\n",
              "      <td>Edgar</td>\n",
              "      <td>Crowan, Kenneth W Esq</td>\n",
              "      <td>99 Guthrie St</td>\n",
              "      <td>New Milton</td>\n",
              "      <td>Hampshire</td>\n",
              "      <td>BH25 5DF</td>\n",
              "      <td>01326-532337</td>\n",
              "      <td>01666-638176</td>\n",
              "      <td>edgar.kanne@yahoo.com</td>\n",
              "      <td>http://www.crowankennethwesq.co.uk</td>\n",
              "    </tr>\n",
              "    <tr>\n",
              "      <th>...</th>\n",
              "      <td>...</td>\n",
              "      <td>...</td>\n",
              "      <td>...</td>\n",
              "      <td>...</td>\n",
              "      <td>...</td>\n",
              "      <td>...</td>\n",
              "      <td>...</td>\n",
              "      <td>...</td>\n",
              "      <td>...</td>\n",
              "      <td>...</td>\n",
              "    </tr>\n",
              "    <tr>\n",
              "      <th>Alsaqri</th>\n",
              "      <td>Ahmad</td>\n",
              "      <td>Alliance Construction Co Inc</td>\n",
              "      <td>21 Pickwick St</td>\n",
              "      <td>Sutton cum Duckmanton</td>\n",
              "      <td>Derbyshire</td>\n",
              "      <td>S44 5DS</td>\n",
              "      <td>01567-555570</td>\n",
              "      <td>01852-550588</td>\n",
              "      <td>ahmad.alsaqri@yahoo.com</td>\n",
              "      <td>http://www.allianceconstructioncoinc.co.uk</td>\n",
              "    </tr>\n",
              "    <tr>\n",
              "      <th>Reibman</th>\n",
              "      <td>Jacquelyne</td>\n",
              "      <td>Great Clips For Hair</td>\n",
              "      <td>70 Lilly Rd</td>\n",
              "      <td>Shirley Ward</td>\n",
              "      <td>Greater London</td>\n",
              "      <td>CR0 7PT</td>\n",
              "      <td>01846-581451</td>\n",
              "      <td>01850-754504</td>\n",
              "      <td>jacquelyne_reibman@yahoo.com</td>\n",
              "      <td>http://www.greatclipsforhair.co.uk</td>\n",
              "    </tr>\n",
              "    <tr>\n",
              "      <th>Kono</th>\n",
              "      <td>Isabelle</td>\n",
              "      <td>Rock Springs Petroleum Equip</td>\n",
              "      <td>4920 Fazakerley Rd</td>\n",
              "      <td>Plymstock Dunstone Ward</td>\n",
              "      <td>Devon</td>\n",
              "      <td>PL9 8RD</td>\n",
              "      <td>01552-682601</td>\n",
              "      <td>01953-816728</td>\n",
              "      <td>isabelle.kono@yahoo.com</td>\n",
              "      <td>http://www.rockspringspetroleumequip.co.uk</td>\n",
              "    </tr>\n",
              "    <tr>\n",
              "      <th>Fiorino</th>\n",
              "      <td>Elbert</td>\n",
              "      <td>Donald, G Nelson Esq</td>\n",
              "      <td>726 Westmoreland Place</td>\n",
              "      <td>Ballochmyle Ward</td>\n",
              "      <td>East Ayrshire</td>\n",
              "      <td>KA5 6EL</td>\n",
              "      <td>01724-467889</td>\n",
              "      <td>01992-537553</td>\n",
              "      <td>elbert@hotmail.com</td>\n",
              "      <td>http://www.donaldgnelsonesq.co.uk</td>\n",
              "    </tr>\n",
              "    <tr>\n",
              "      <th>Keeny</th>\n",
              "      <td>Celestina</td>\n",
              "      <td>Bfg Federal Credit Union</td>\n",
              "      <td>9 Milton St</td>\n",
              "      <td>Consett North ED</td>\n",
              "      <td>County Durham</td>\n",
              "      <td>DH8 5LP</td>\n",
              "      <td>01877-379681</td>\n",
              "      <td>01600-463475</td>\n",
              "      <td>celestina_keeny@gmail.com</td>\n",
              "      <td>http://www.bfgfederalcreditunion.co.uk</td>\n",
              "    </tr>\n",
              "  </tbody>\n",
              "</table>\n",
              "<p>192 rows × 10 columns</p>\n",
              "</div>"
            ],
            "text/plain": [
              "            first_name  ...                                         web\n",
              "last_name               ...                                            \n",
              "Andrade         France  ...            http://www.elliottjohnwesq.co.uk\n",
              "Rampy             Eric  ...        http://www.thompsonmichaelcesq.co.uk\n",
              "Erm        Charlesetta  ...               http://www.cainjohnmesq.co.uk\n",
              "Throssell      Michell  ...            http://www.weissspirtguyer.co.uk\n",
              "Kanne            Edgar  ...          http://www.crowankennethwesq.co.uk\n",
              "...                ...  ...                                         ...\n",
              "Alsaqri          Ahmad  ...  http://www.allianceconstructioncoinc.co.uk\n",
              "Reibman     Jacquelyne  ...          http://www.greatclipsforhair.co.uk\n",
              "Kono          Isabelle  ...  http://www.rockspringspetroleumequip.co.uk\n",
              "Fiorino         Elbert  ...           http://www.donaldgnelsonesq.co.uk\n",
              "Keeny        Celestina  ...      http://www.bfgfederalcreditunion.co.uk\n",
              "\n",
              "[192 rows x 10 columns]"
            ]
          },
          "metadata": {
            "tags": []
          },
          "execution_count": 34
        }
      ]
    },
    {
      "cell_type": "code",
      "metadata": {
        "colab": {
          "base_uri": "https://localhost:8080/",
          "height": 79
        },
        "id": "NLfGBn25kmpG",
        "outputId": "6ed49cc4-e244-429f-e293-d1d47ec46503"
      },
      "source": [
        "#when it does not exist\n",
        "data.loc[((data['county']=='Kent') & (['first_name']=='Dheeraj'))]"
      ],
      "execution_count": 36,
      "outputs": [
        {
          "output_type": "execute_result",
          "data": {
            "text/html": [
              "<div>\n",
              "<style scoped>\n",
              "    .dataframe tbody tr th:only-of-type {\n",
              "        vertical-align: middle;\n",
              "    }\n",
              "\n",
              "    .dataframe tbody tr th {\n",
              "        vertical-align: top;\n",
              "    }\n",
              "\n",
              "    .dataframe thead th {\n",
              "        text-align: right;\n",
              "    }\n",
              "</style>\n",
              "<table border=\"1\" class=\"dataframe\">\n",
              "  <thead>\n",
              "    <tr style=\"text-align: right;\">\n",
              "      <th></th>\n",
              "      <th>first_name</th>\n",
              "      <th>company_name</th>\n",
              "      <th>address</th>\n",
              "      <th>city</th>\n",
              "      <th>county</th>\n",
              "      <th>postal</th>\n",
              "      <th>phone1</th>\n",
              "      <th>phone2</th>\n",
              "      <th>email</th>\n",
              "      <th>web</th>\n",
              "    </tr>\n",
              "    <tr>\n",
              "      <th>last_name</th>\n",
              "      <th></th>\n",
              "      <th></th>\n",
              "      <th></th>\n",
              "      <th></th>\n",
              "      <th></th>\n",
              "      <th></th>\n",
              "      <th></th>\n",
              "      <th></th>\n",
              "      <th></th>\n",
              "      <th></th>\n",
              "    </tr>\n",
              "  </thead>\n",
              "  <tbody>\n",
              "  </tbody>\n",
              "</table>\n",
              "</div>"
            ],
            "text/plain": [
              "Empty DataFrame\n",
              "Columns: [first_name, company_name, address, city, county, postal, phone1, phone2, email, web]\n",
              "Index: []"
            ]
          },
          "metadata": {
            "tags": []
          },
          "execution_count": 36
        }
      ]
    },
    {
      "cell_type": "markdown",
      "metadata": {
        "id": "MtCu5xUQmEIC"
      },
      "source": [
        "read from webcontent instead of downloading/uploading"
      ]
    },
    {
      "cell_type": "code",
      "metadata": {
        "id": "Vki1Pp8WmJOt"
      },
      "source": [
        "df=pd.read_csv('https://raw.githubusercontent.com/fivethirtyeight/data/master/cabinet-turnover/cabinet-turnover.csv')"
      ],
      "execution_count": 37,
      "outputs": []
    },
    {
      "cell_type": "code",
      "metadata": {
        "colab": {
          "base_uri": "https://localhost:8080/",
          "height": 204
        },
        "id": "17Dc1pThmP79",
        "outputId": "745ed6df-91f2-4f6b-8046-7661ed9947b5"
      },
      "source": [
        "df.head()"
      ],
      "execution_count": 50,
      "outputs": [
        {
          "output_type": "execute_result",
          "data": {
            "text/html": [
              "<div>\n",
              "<style scoped>\n",
              "    .dataframe tbody tr th:only-of-type {\n",
              "        vertical-align: middle;\n",
              "    }\n",
              "\n",
              "    .dataframe tbody tr th {\n",
              "        vertical-align: top;\n",
              "    }\n",
              "\n",
              "    .dataframe thead th {\n",
              "        text-align: right;\n",
              "    }\n",
              "</style>\n",
              "<table border=\"1\" class=\"dataframe\">\n",
              "  <thead>\n",
              "    <tr style=\"text-align: right;\">\n",
              "      <th></th>\n",
              "      <th>president</th>\n",
              "      <th>position</th>\n",
              "      <th>appointee</th>\n",
              "      <th>start</th>\n",
              "      <th>end</th>\n",
              "      <th>length</th>\n",
              "      <th>days</th>\n",
              "    </tr>\n",
              "  </thead>\n",
              "  <tbody>\n",
              "    <tr>\n",
              "      <th>0</th>\n",
              "      <td>Carter</td>\n",
              "      <td>OMB Director</td>\n",
              "      <td>Bert Lance</td>\n",
              "      <td>1/21/77</td>\n",
              "      <td>9/23/77</td>\n",
              "      <td>245</td>\n",
              "      <td>247.0</td>\n",
              "    </tr>\n",
              "    <tr>\n",
              "      <th>1</th>\n",
              "      <td>Carter</td>\n",
              "      <td>Secretary of Transportation</td>\n",
              "      <td>Brock Adams</td>\n",
              "      <td>1/23/77</td>\n",
              "      <td>7/20/79</td>\n",
              "      <td>908</td>\n",
              "      <td>912.0</td>\n",
              "    </tr>\n",
              "    <tr>\n",
              "      <th>2</th>\n",
              "      <td>Carter</td>\n",
              "      <td>Secretary of Health, Education &amp; Welfare</td>\n",
              "      <td>Joseph Califano Jr.</td>\n",
              "      <td>1/25/77</td>\n",
              "      <td>8/3/79</td>\n",
              "      <td>920</td>\n",
              "      <td>926.0</td>\n",
              "    </tr>\n",
              "    <tr>\n",
              "      <th>3</th>\n",
              "      <td>Carter</td>\n",
              "      <td>Secretary of Housing &amp; Urban Development</td>\n",
              "      <td>Patricia Harris</td>\n",
              "      <td>1/23/77</td>\n",
              "      <td>8/3/79</td>\n",
              "      <td>922</td>\n",
              "      <td>926.0</td>\n",
              "    </tr>\n",
              "    <tr>\n",
              "      <th>4</th>\n",
              "      <td>Carter</td>\n",
              "      <td>Secretary of the Treasury</td>\n",
              "      <td>W. Michael Blumenthal</td>\n",
              "      <td>1/23/77</td>\n",
              "      <td>8/4/79</td>\n",
              "      <td>923</td>\n",
              "      <td>927.0</td>\n",
              "    </tr>\n",
              "  </tbody>\n",
              "</table>\n",
              "</div>"
            ],
            "text/plain": [
              "  president                                  position  ... length   days\n",
              "0    Carter                              OMB Director  ...    245  247.0\n",
              "1    Carter               Secretary of Transportation  ...    908  912.0\n",
              "2    Carter  Secretary of Health, Education & Welfare  ...    920  926.0\n",
              "3    Carter  Secretary of Housing & Urban Development  ...    922  926.0\n",
              "4    Carter                 Secretary of the Treasury  ...    923  927.0\n",
              "\n",
              "[5 rows x 7 columns]"
            ]
          },
          "metadata": {
            "tags": []
          },
          "execution_count": 50
        }
      ]
    },
    {
      "cell_type": "code",
      "metadata": {
        "colab": {
          "base_uri": "https://localhost:8080/",
          "height": 297
        },
        "id": "Z7bNAYJTnoHF",
        "outputId": "dc2ca970-8c51-40b2-97c6-ad1be94a2996"
      },
      "source": [
        "df.describe()"
      ],
      "execution_count": 51,
      "outputs": [
        {
          "output_type": "execute_result",
          "data": {
            "text/html": [
              "<div>\n",
              "<style scoped>\n",
              "    .dataframe tbody tr th:only-of-type {\n",
              "        vertical-align: middle;\n",
              "    }\n",
              "\n",
              "    .dataframe tbody tr th {\n",
              "        vertical-align: top;\n",
              "    }\n",
              "\n",
              "    .dataframe thead th {\n",
              "        text-align: right;\n",
              "    }\n",
              "</style>\n",
              "<table border=\"1\" class=\"dataframe\">\n",
              "  <thead>\n",
              "    <tr style=\"text-align: right;\">\n",
              "      <th></th>\n",
              "      <th>days</th>\n",
              "    </tr>\n",
              "  </thead>\n",
              "  <tbody>\n",
              "    <tr>\n",
              "      <th>count</th>\n",
              "      <td>288.000000</td>\n",
              "    </tr>\n",
              "    <tr>\n",
              "      <th>mean</th>\n",
              "      <td>1861.506944</td>\n",
              "    </tr>\n",
              "    <tr>\n",
              "      <th>std</th>\n",
              "      <td>832.302520</td>\n",
              "    </tr>\n",
              "    <tr>\n",
              "      <th>min</th>\n",
              "      <td>190.000000</td>\n",
              "    </tr>\n",
              "    <tr>\n",
              "      <th>25%</th>\n",
              "      <td>1442.000000</td>\n",
              "    </tr>\n",
              "    <tr>\n",
              "      <th>50%</th>\n",
              "      <td>1487.000000</td>\n",
              "    </tr>\n",
              "    <tr>\n",
              "      <th>75%</th>\n",
              "      <td>2922.000000</td>\n",
              "    </tr>\n",
              "    <tr>\n",
              "      <th>max</th>\n",
              "      <td>3013.000000</td>\n",
              "    </tr>\n",
              "  </tbody>\n",
              "</table>\n",
              "</div>"
            ],
            "text/plain": [
              "              days\n",
              "count   288.000000\n",
              "mean   1861.506944\n",
              "std     832.302520\n",
              "min     190.000000\n",
              "25%    1442.000000\n",
              "50%    1487.000000\n",
              "75%    2922.000000\n",
              "max    3013.000000"
            ]
          },
          "metadata": {
            "tags": []
          },
          "execution_count": 51
        }
      ]
    },
    {
      "cell_type": "code",
      "metadata": {
        "colab": {
          "base_uri": "https://localhost:8080/"
        },
        "id": "UUoAW-16nqAD",
        "outputId": "b9d9e737-9609-41b7-a045-5e67275d41e2"
      },
      "source": [
        "df.shape"
      ],
      "execution_count": 52,
      "outputs": [
        {
          "output_type": "execute_result",
          "data": {
            "text/plain": [
              "(312, 7)"
            ]
          },
          "metadata": {
            "tags": []
          },
          "execution_count": 52
        }
      ]
    },
    {
      "cell_type": "code",
      "metadata": {
        "colab": {
          "base_uri": "https://localhost:8080/"
        },
        "id": "1PI9_4fKnqRj",
        "outputId": "845b2ca9-6ba9-47e4-a661-c08a23798e34"
      },
      "source": [
        "df.info()"
      ],
      "execution_count": 53,
      "outputs": [
        {
          "output_type": "stream",
          "text": [
            "<class 'pandas.core.frame.DataFrame'>\n",
            "RangeIndex: 312 entries, 0 to 311\n",
            "Data columns (total 7 columns):\n",
            " #   Column     Non-Null Count  Dtype  \n",
            "---  ------     --------------  -----  \n",
            " 0   president  312 non-null    object \n",
            " 1   position   312 non-null    object \n",
            " 2   appointee  312 non-null    object \n",
            " 3   start      312 non-null    object \n",
            " 4   end        312 non-null    object \n",
            " 5   length     294 non-null    object \n",
            " 6   days       288 non-null    float64\n",
            "dtypes: float64(1), object(6)\n",
            "memory usage: 17.2+ KB\n"
          ],
          "name": "stdout"
        }
      ]
    },
    {
      "cell_type": "code",
      "metadata": {
        "colab": {
          "base_uri": "https://localhost:8080/"
        },
        "id": "QX3eupwdmcA6",
        "outputId": "e27ca79f-6363-4bea-9bfa-d99cbe16a750"
      },
      "source": [
        "#nonunique and unique\n",
        "df['president'].nunique()"
      ],
      "execution_count": 47,
      "outputs": [
        {
          "output_type": "execute_result",
          "data": {
            "text/plain": [
              "7"
            ]
          },
          "metadata": {
            "tags": []
          },
          "execution_count": 47
        }
      ]
    },
    {
      "cell_type": "code",
      "metadata": {
        "colab": {
          "base_uri": "https://localhost:8080/",
          "height": 419
        },
        "id": "PbtPyp08mkRy",
        "outputId": "ba3a6f98-a629-44b7-9936-0389dcaa3857"
      },
      "source": [
        "#strings containing secretary \n",
        "df.loc[df.position.str.contains(\"Secretary\")]"
      ],
      "execution_count": 49,
      "outputs": [
        {
          "output_type": "execute_result",
          "data": {
            "text/html": [
              "<div>\n",
              "<style scoped>\n",
              "    .dataframe tbody tr th:only-of-type {\n",
              "        vertical-align: middle;\n",
              "    }\n",
              "\n",
              "    .dataframe tbody tr th {\n",
              "        vertical-align: top;\n",
              "    }\n",
              "\n",
              "    .dataframe thead th {\n",
              "        text-align: right;\n",
              "    }\n",
              "</style>\n",
              "<table border=\"1\" class=\"dataframe\">\n",
              "  <thead>\n",
              "    <tr style=\"text-align: right;\">\n",
              "      <th></th>\n",
              "      <th>president</th>\n",
              "      <th>position</th>\n",
              "      <th>appointee</th>\n",
              "      <th>start</th>\n",
              "      <th>end</th>\n",
              "      <th>length</th>\n",
              "      <th>days</th>\n",
              "    </tr>\n",
              "  </thead>\n",
              "  <tbody>\n",
              "    <tr>\n",
              "      <th>1</th>\n",
              "      <td>Carter</td>\n",
              "      <td>Secretary of Transportation</td>\n",
              "      <td>Brock Adams</td>\n",
              "      <td>1/23/77</td>\n",
              "      <td>7/20/79</td>\n",
              "      <td>908</td>\n",
              "      <td>912.0</td>\n",
              "    </tr>\n",
              "    <tr>\n",
              "      <th>2</th>\n",
              "      <td>Carter</td>\n",
              "      <td>Secretary of Health, Education &amp; Welfare</td>\n",
              "      <td>Joseph Califano Jr.</td>\n",
              "      <td>1/25/77</td>\n",
              "      <td>8/3/79</td>\n",
              "      <td>920</td>\n",
              "      <td>926.0</td>\n",
              "    </tr>\n",
              "    <tr>\n",
              "      <th>3</th>\n",
              "      <td>Carter</td>\n",
              "      <td>Secretary of Housing &amp; Urban Development</td>\n",
              "      <td>Patricia Harris</td>\n",
              "      <td>1/23/77</td>\n",
              "      <td>8/3/79</td>\n",
              "      <td>922</td>\n",
              "      <td>926.0</td>\n",
              "    </tr>\n",
              "    <tr>\n",
              "      <th>4</th>\n",
              "      <td>Carter</td>\n",
              "      <td>Secretary of the Treasury</td>\n",
              "      <td>W. Michael Blumenthal</td>\n",
              "      <td>1/23/77</td>\n",
              "      <td>8/4/79</td>\n",
              "      <td>923</td>\n",
              "      <td>927.0</td>\n",
              "    </tr>\n",
              "    <tr>\n",
              "      <th>7</th>\n",
              "      <td>Carter</td>\n",
              "      <td>Secretary of Energy</td>\n",
              "      <td>James Schlesinger</td>\n",
              "      <td>8/6/77</td>\n",
              "      <td>8/23/79</td>\n",
              "      <td>747</td>\n",
              "      <td>946.0</td>\n",
              "    </tr>\n",
              "    <tr>\n",
              "      <th>...</th>\n",
              "      <td>...</td>\n",
              "      <td>...</td>\n",
              "      <td>...</td>\n",
              "      <td>...</td>\n",
              "      <td>...</td>\n",
              "      <td>...</td>\n",
              "      <td>...</td>\n",
              "    </tr>\n",
              "    <tr>\n",
              "      <th>305</th>\n",
              "      <td>Trump</td>\n",
              "      <td>Secretary of Labor</td>\n",
              "      <td>Alexander Acosta</td>\n",
              "      <td>4/28/17</td>\n",
              "      <td>Still in office</td>\n",
              "      <td>NaN</td>\n",
              "      <td>NaN</td>\n",
              "    </tr>\n",
              "    <tr>\n",
              "      <th>307</th>\n",
              "      <td>Trump</td>\n",
              "      <td>Secretary of Homeland Security</td>\n",
              "      <td>Kirstjen Nielsen</td>\n",
              "      <td>12/6/17</td>\n",
              "      <td>Still in office</td>\n",
              "      <td>NaN</td>\n",
              "      <td>NaN</td>\n",
              "    </tr>\n",
              "    <tr>\n",
              "      <th>308</th>\n",
              "      <td>Trump</td>\n",
              "      <td>Secretary of Health &amp; Human Services</td>\n",
              "      <td>Alex Azar</td>\n",
              "      <td>1/29/18</td>\n",
              "      <td>Still in office</td>\n",
              "      <td>NaN</td>\n",
              "      <td>NaN</td>\n",
              "    </tr>\n",
              "    <tr>\n",
              "      <th>309</th>\n",
              "      <td>Trump</td>\n",
              "      <td>Secretary of State</td>\n",
              "      <td>Mike Pompeo</td>\n",
              "      <td>4/26/18</td>\n",
              "      <td>Still in office</td>\n",
              "      <td>NaN</td>\n",
              "      <td>NaN</td>\n",
              "    </tr>\n",
              "    <tr>\n",
              "      <th>311</th>\n",
              "      <td>Trump</td>\n",
              "      <td>Secretary of Veterans Affairs</td>\n",
              "      <td>Robert Wilkie</td>\n",
              "      <td>7/30/18</td>\n",
              "      <td>Still in office</td>\n",
              "      <td>NaN</td>\n",
              "      <td>NaN</td>\n",
              "    </tr>\n",
              "  </tbody>\n",
              "</table>\n",
              "<p>175 rows × 7 columns</p>\n",
              "</div>"
            ],
            "text/plain": [
              "    president                                  position  ... length   days\n",
              "1      Carter               Secretary of Transportation  ...    908  912.0\n",
              "2      Carter  Secretary of Health, Education & Welfare  ...    920  926.0\n",
              "3      Carter  Secretary of Housing & Urban Development  ...    922  926.0\n",
              "4      Carter                 Secretary of the Treasury  ...    923  927.0\n",
              "7      Carter                       Secretary of Energy  ...    747  946.0\n",
              "..        ...                                       ...  ...    ...    ...\n",
              "305     Trump                        Secretary of Labor  ...    NaN    NaN\n",
              "307     Trump            Secretary of Homeland Security  ...    NaN    NaN\n",
              "308     Trump      Secretary of Health & Human Services  ...    NaN    NaN\n",
              "309     Trump                        Secretary of State  ...    NaN    NaN\n",
              "311     Trump             Secretary of Veterans Affairs  ...    NaN    NaN\n",
              "\n",
              "[175 rows x 7 columns]"
            ]
          },
          "metadata": {
            "tags": []
          },
          "execution_count": 49
        }
      ]
    },
    {
      "cell_type": "code",
      "metadata": {
        "colab": {
          "base_uri": "https://localhost:8080/"
        },
        "id": "qw3dH5tompMF",
        "outputId": "1478e06b-0f29-4812-c33c-40ad99683498"
      },
      "source": [
        "df.loc[(df['president']=='Clinton')&(df.position.str.contains(\"OMB Director\"))]['appointee']"
      ],
      "execution_count": 48,
      "outputs": [
        {
          "output_type": "execute_result",
          "data": {
            "text/plain": [
              "122    Leon Panetta\n",
              "129    Alice Rivlin\n",
              "142    Frank Raines\n",
              "151        Jack Lew\n",
              "Name: appointee, dtype: object"
            ]
          },
          "metadata": {
            "tags": []
          },
          "execution_count": 48
        }
      ]
    }
  ]
}