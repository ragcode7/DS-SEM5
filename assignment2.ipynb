{
  "nbformat": 4,
  "nbformat_minor": 0,
  "metadata": {
    "colab": {
      "name": "19cse046_lab2.ipynb",
      "provenance": [],
      "collapsed_sections": [],
      "authorship_tag": "ABX9TyPzBCZw63ofn3MJ7Gidq3BV",
      "include_colab_link": true
    },
    "kernelspec": {
      "name": "python3",
      "display_name": "Python 3"
    },
    "language_info": {
      "name": "python"
    }
  },
  "cells": [
    {
      "cell_type": "markdown",
      "metadata": {
        "id": "view-in-github",
        "colab_type": "text"
      },
      "source": [
        "<a href=\"https://colab.research.google.com/github/ragcode7/DS-SEM5/blob/main/assignment2.ipynb\" target=\"_parent\"><img src=\"https://colab.research.google.com/assets/colab-badge.svg\" alt=\"Open In Colab\"/></a>"
      ]
    },
    {
      "cell_type": "markdown",
      "metadata": {
        "id": "Dm4VOEs8ep24"
      },
      "source": [
        "Assignment Lab - 28th July"
      ]
    },
    {
      "cell_type": "markdown",
      "metadata": {
        "id": "GvanbYDBeKsO"
      },
      "source": [
        "Given instructions:\n",
        "1.Create a dataframe with rollno name and city\n",
        "\n",
        "2.Create a dataframe with rollno hobby\n",
        "\n",
        "3.a.merge both dataframes try with inner \n",
        "\n",
        "3.b.merge both dataframes try with outer \n",
        "\n",
        "3.c.merge both dataframes try with right \n",
        "\n",
        "3.d.merge both dataframes try with  left\n",
        "\n",
        "4.concat with join parameter inner and outer\n",
        "\n",
        "5.melt command on first df\n",
        "\n",
        "6.retrieve the actual dataframe from melt table\n",
        "\n",
        "7.join both dataframes and explore different options."
      ]
    },
    {
      "cell_type": "code",
      "metadata": {
        "id": "jYMjDXbld9xt"
      },
      "source": [
        "import pandas as pd\n",
        "import numpy as np"
      ],
      "execution_count": null,
      "outputs": []
    },
    {
      "cell_type": "code",
      "metadata": {
        "colab": {
          "base_uri": "https://localhost:8080/",
          "height": 142
        },
        "id": "OOltHefWgZS-",
        "outputId": "ff7ad857-7eac-4fdf-c33b-a3424998cbd5"
      },
      "source": [
        "#1\n",
        "d1 = pd.DataFrame({'Rollno': [1,2,3],\n",
        "                   'Name': ['Ragavi Rajkumar', 'Roshini Rajkumar','Rajkumar'],\n",
        "                   'city':['Bangalore','Boston','Detroit']})\n",
        "d1   "
      ],
      "execution_count": null,
      "outputs": [
        {
          "output_type": "execute_result",
          "data": {
            "text/html": [
              "<div>\n",
              "<style scoped>\n",
              "    .dataframe tbody tr th:only-of-type {\n",
              "        vertical-align: middle;\n",
              "    }\n",
              "\n",
              "    .dataframe tbody tr th {\n",
              "        vertical-align: top;\n",
              "    }\n",
              "\n",
              "    .dataframe thead th {\n",
              "        text-align: right;\n",
              "    }\n",
              "</style>\n",
              "<table border=\"1\" class=\"dataframe\">\n",
              "  <thead>\n",
              "    <tr style=\"text-align: right;\">\n",
              "      <th></th>\n",
              "      <th>Rollno</th>\n",
              "      <th>Name</th>\n",
              "      <th>city</th>\n",
              "    </tr>\n",
              "  </thead>\n",
              "  <tbody>\n",
              "    <tr>\n",
              "      <th>0</th>\n",
              "      <td>1</td>\n",
              "      <td>Ragavi Rajkumar</td>\n",
              "      <td>Bangalore</td>\n",
              "    </tr>\n",
              "    <tr>\n",
              "      <th>1</th>\n",
              "      <td>2</td>\n",
              "      <td>Roshini Rajkumar</td>\n",
              "      <td>Boston</td>\n",
              "    </tr>\n",
              "    <tr>\n",
              "      <th>2</th>\n",
              "      <td>3</td>\n",
              "      <td>Rajkumar</td>\n",
              "      <td>Detroit</td>\n",
              "    </tr>\n",
              "  </tbody>\n",
              "</table>\n",
              "</div>"
            ],
            "text/plain": [
              "   Rollno              Name       city\n",
              "0       1   Ragavi Rajkumar  Bangalore\n",
              "1       2  Roshini Rajkumar     Boston\n",
              "2       3          Rajkumar    Detroit"
            ]
          },
          "metadata": {
            "tags": []
          },
          "execution_count": 43
        }
      ]
    },
    {
      "cell_type": "code",
      "metadata": {
        "colab": {
          "base_uri": "https://localhost:8080/",
          "height": 142
        },
        "id": "5sY3hJDYjZ7i",
        "outputId": "78c26503-9a3a-4be4-9af1-c40895d525cc"
      },
      "source": [
        "#2\n",
        "d2=pd.DataFrame({'Rollno':[1,2,3],\n",
        "                 'Hobby':['Digital Art','Playing the piano','Photography']})\n",
        "d2"
      ],
      "execution_count": null,
      "outputs": [
        {
          "output_type": "execute_result",
          "data": {
            "text/html": [
              "<div>\n",
              "<style scoped>\n",
              "    .dataframe tbody tr th:only-of-type {\n",
              "        vertical-align: middle;\n",
              "    }\n",
              "\n",
              "    .dataframe tbody tr th {\n",
              "        vertical-align: top;\n",
              "    }\n",
              "\n",
              "    .dataframe thead th {\n",
              "        text-align: right;\n",
              "    }\n",
              "</style>\n",
              "<table border=\"1\" class=\"dataframe\">\n",
              "  <thead>\n",
              "    <tr style=\"text-align: right;\">\n",
              "      <th></th>\n",
              "      <th>Rollno</th>\n",
              "      <th>Hobby</th>\n",
              "    </tr>\n",
              "  </thead>\n",
              "  <tbody>\n",
              "    <tr>\n",
              "      <th>0</th>\n",
              "      <td>1</td>\n",
              "      <td>Digital Art</td>\n",
              "    </tr>\n",
              "    <tr>\n",
              "      <th>1</th>\n",
              "      <td>2</td>\n",
              "      <td>Playing the piano</td>\n",
              "    </tr>\n",
              "    <tr>\n",
              "      <th>2</th>\n",
              "      <td>3</td>\n",
              "      <td>Photography</td>\n",
              "    </tr>\n",
              "  </tbody>\n",
              "</table>\n",
              "</div>"
            ],
            "text/plain": [
              "   Rollno              Hobby\n",
              "0       1        Digital Art\n",
              "1       2  Playing the piano\n",
              "2       3        Photography"
            ]
          },
          "metadata": {
            "tags": []
          },
          "execution_count": 44
        }
      ]
    },
    {
      "cell_type": "code",
      "metadata": {
        "colab": {
          "base_uri": "https://localhost:8080/",
          "height": 142
        },
        "id": "r8O2t32njha9",
        "outputId": "86721d2b-042c-4547-f37b-4e78bad2a690"
      },
      "source": [
        "#3a\n",
        "df_outer = pd.merge(d1, d2, on='Rollno', how='outer')\n",
        "df_outer"
      ],
      "execution_count": null,
      "outputs": [
        {
          "output_type": "execute_result",
          "data": {
            "text/html": [
              "<div>\n",
              "<style scoped>\n",
              "    .dataframe tbody tr th:only-of-type {\n",
              "        vertical-align: middle;\n",
              "    }\n",
              "\n",
              "    .dataframe tbody tr th {\n",
              "        vertical-align: top;\n",
              "    }\n",
              "\n",
              "    .dataframe thead th {\n",
              "        text-align: right;\n",
              "    }\n",
              "</style>\n",
              "<table border=\"1\" class=\"dataframe\">\n",
              "  <thead>\n",
              "    <tr style=\"text-align: right;\">\n",
              "      <th></th>\n",
              "      <th>Rollno</th>\n",
              "      <th>Name</th>\n",
              "      <th>city</th>\n",
              "      <th>Hobby</th>\n",
              "    </tr>\n",
              "  </thead>\n",
              "  <tbody>\n",
              "    <tr>\n",
              "      <th>0</th>\n",
              "      <td>1</td>\n",
              "      <td>Ragavi Rajkumar</td>\n",
              "      <td>Bangalore</td>\n",
              "      <td>Digital Art</td>\n",
              "    </tr>\n",
              "    <tr>\n",
              "      <th>1</th>\n",
              "      <td>2</td>\n",
              "      <td>Roshini Rajkumar</td>\n",
              "      <td>Boston</td>\n",
              "      <td>Playing the piano</td>\n",
              "    </tr>\n",
              "    <tr>\n",
              "      <th>2</th>\n",
              "      <td>3</td>\n",
              "      <td>Rajkumar</td>\n",
              "      <td>Detroit</td>\n",
              "      <td>Photography</td>\n",
              "    </tr>\n",
              "  </tbody>\n",
              "</table>\n",
              "</div>"
            ],
            "text/plain": [
              "   Rollno              Name       city              Hobby\n",
              "0       1   Ragavi Rajkumar  Bangalore        Digital Art\n",
              "1       2  Roshini Rajkumar     Boston  Playing the piano\n",
              "2       3          Rajkumar    Detroit        Photography"
            ]
          },
          "metadata": {
            "tags": []
          },
          "execution_count": 45
        }
      ]
    },
    {
      "cell_type": "code",
      "metadata": {
        "colab": {
          "base_uri": "https://localhost:8080/",
          "height": 142
        },
        "id": "hG9PAk3-jjBT",
        "outputId": "6547de79-7a51-4db9-919c-7b0cf1ddfed2"
      },
      "source": [
        "#3b\n",
        "df_inner = pd.merge(d1, d2, on='Rollno', how='inner')\n",
        "df_inner"
      ],
      "execution_count": null,
      "outputs": [
        {
          "output_type": "execute_result",
          "data": {
            "text/html": [
              "<div>\n",
              "<style scoped>\n",
              "    .dataframe tbody tr th:only-of-type {\n",
              "        vertical-align: middle;\n",
              "    }\n",
              "\n",
              "    .dataframe tbody tr th {\n",
              "        vertical-align: top;\n",
              "    }\n",
              "\n",
              "    .dataframe thead th {\n",
              "        text-align: right;\n",
              "    }\n",
              "</style>\n",
              "<table border=\"1\" class=\"dataframe\">\n",
              "  <thead>\n",
              "    <tr style=\"text-align: right;\">\n",
              "      <th></th>\n",
              "      <th>Rollno</th>\n",
              "      <th>Name</th>\n",
              "      <th>city</th>\n",
              "      <th>Hobby</th>\n",
              "    </tr>\n",
              "  </thead>\n",
              "  <tbody>\n",
              "    <tr>\n",
              "      <th>0</th>\n",
              "      <td>1</td>\n",
              "      <td>Ragavi Rajkumar</td>\n",
              "      <td>Bangalore</td>\n",
              "      <td>Digital Art</td>\n",
              "    </tr>\n",
              "    <tr>\n",
              "      <th>1</th>\n",
              "      <td>2</td>\n",
              "      <td>Roshini Rajkumar</td>\n",
              "      <td>Boston</td>\n",
              "      <td>Playing the piano</td>\n",
              "    </tr>\n",
              "    <tr>\n",
              "      <th>2</th>\n",
              "      <td>3</td>\n",
              "      <td>Rajkumar</td>\n",
              "      <td>Detroit</td>\n",
              "      <td>Photography</td>\n",
              "    </tr>\n",
              "  </tbody>\n",
              "</table>\n",
              "</div>"
            ],
            "text/plain": [
              "   Rollno              Name       city              Hobby\n",
              "0       1   Ragavi Rajkumar  Bangalore        Digital Art\n",
              "1       2  Roshini Rajkumar     Boston  Playing the piano\n",
              "2       3          Rajkumar    Detroit        Photography"
            ]
          },
          "metadata": {
            "tags": []
          },
          "execution_count": 46
        }
      ]
    },
    {
      "cell_type": "code",
      "metadata": {
        "colab": {
          "base_uri": "https://localhost:8080/",
          "height": 142
        },
        "id": "Fsikaqtgjmul",
        "outputId": "d4d0fc0f-33a7-49d1-c3bb-a2d82e0b2b8f"
      },
      "source": [
        "#3c\n",
        "df_left = pd.merge(d1, d2, on='Rollno', how='left')\n",
        "df_left"
      ],
      "execution_count": null,
      "outputs": [
        {
          "output_type": "execute_result",
          "data": {
            "text/html": [
              "<div>\n",
              "<style scoped>\n",
              "    .dataframe tbody tr th:only-of-type {\n",
              "        vertical-align: middle;\n",
              "    }\n",
              "\n",
              "    .dataframe tbody tr th {\n",
              "        vertical-align: top;\n",
              "    }\n",
              "\n",
              "    .dataframe thead th {\n",
              "        text-align: right;\n",
              "    }\n",
              "</style>\n",
              "<table border=\"1\" class=\"dataframe\">\n",
              "  <thead>\n",
              "    <tr style=\"text-align: right;\">\n",
              "      <th></th>\n",
              "      <th>Rollno</th>\n",
              "      <th>Name</th>\n",
              "      <th>city</th>\n",
              "      <th>Hobby</th>\n",
              "    </tr>\n",
              "  </thead>\n",
              "  <tbody>\n",
              "    <tr>\n",
              "      <th>0</th>\n",
              "      <td>1</td>\n",
              "      <td>Ragavi Rajkumar</td>\n",
              "      <td>Bangalore</td>\n",
              "      <td>Digital Art</td>\n",
              "    </tr>\n",
              "    <tr>\n",
              "      <th>1</th>\n",
              "      <td>2</td>\n",
              "      <td>Roshini Rajkumar</td>\n",
              "      <td>Boston</td>\n",
              "      <td>Playing the piano</td>\n",
              "    </tr>\n",
              "    <tr>\n",
              "      <th>2</th>\n",
              "      <td>3</td>\n",
              "      <td>Rajkumar</td>\n",
              "      <td>Detroit</td>\n",
              "      <td>Photography</td>\n",
              "    </tr>\n",
              "  </tbody>\n",
              "</table>\n",
              "</div>"
            ],
            "text/plain": [
              "   Rollno              Name       city              Hobby\n",
              "0       1   Ragavi Rajkumar  Bangalore        Digital Art\n",
              "1       2  Roshini Rajkumar     Boston  Playing the piano\n",
              "2       3          Rajkumar    Detroit        Photography"
            ]
          },
          "metadata": {
            "tags": []
          },
          "execution_count": 47
        }
      ]
    },
    {
      "cell_type": "code",
      "metadata": {
        "colab": {
          "base_uri": "https://localhost:8080/",
          "height": 142
        },
        "id": "_Xbfrsojjn0f",
        "outputId": "fe27f18a-2a8a-49e4-a1be-df488ff96534"
      },
      "source": [
        "#3d\n",
        "df_right = pd.merge(d1, d2, on='Rollno', how='right')\n",
        "df_right"
      ],
      "execution_count": null,
      "outputs": [
        {
          "output_type": "execute_result",
          "data": {
            "text/html": [
              "<div>\n",
              "<style scoped>\n",
              "    .dataframe tbody tr th:only-of-type {\n",
              "        vertical-align: middle;\n",
              "    }\n",
              "\n",
              "    .dataframe tbody tr th {\n",
              "        vertical-align: top;\n",
              "    }\n",
              "\n",
              "    .dataframe thead th {\n",
              "        text-align: right;\n",
              "    }\n",
              "</style>\n",
              "<table border=\"1\" class=\"dataframe\">\n",
              "  <thead>\n",
              "    <tr style=\"text-align: right;\">\n",
              "      <th></th>\n",
              "      <th>Rollno</th>\n",
              "      <th>Name</th>\n",
              "      <th>city</th>\n",
              "      <th>Hobby</th>\n",
              "    </tr>\n",
              "  </thead>\n",
              "  <tbody>\n",
              "    <tr>\n",
              "      <th>0</th>\n",
              "      <td>1</td>\n",
              "      <td>Ragavi Rajkumar</td>\n",
              "      <td>Bangalore</td>\n",
              "      <td>Digital Art</td>\n",
              "    </tr>\n",
              "    <tr>\n",
              "      <th>1</th>\n",
              "      <td>2</td>\n",
              "      <td>Roshini Rajkumar</td>\n",
              "      <td>Boston</td>\n",
              "      <td>Playing the piano</td>\n",
              "    </tr>\n",
              "    <tr>\n",
              "      <th>2</th>\n",
              "      <td>3</td>\n",
              "      <td>Rajkumar</td>\n",
              "      <td>Detroit</td>\n",
              "      <td>Photography</td>\n",
              "    </tr>\n",
              "  </tbody>\n",
              "</table>\n",
              "</div>"
            ],
            "text/plain": [
              "   Rollno              Name       city              Hobby\n",
              "0       1   Ragavi Rajkumar  Bangalore        Digital Art\n",
              "1       2  Roshini Rajkumar     Boston  Playing the piano\n",
              "2       3          Rajkumar    Detroit        Photography"
            ]
          },
          "metadata": {
            "tags": []
          },
          "execution_count": 48
        }
      ]
    },
    {
      "cell_type": "code",
      "metadata": {
        "colab": {
          "base_uri": "https://localhost:8080/",
          "height": 142
        },
        "id": "8RSs5J5sjqVY",
        "outputId": "dd460027-f57a-405a-fa87-da695dddf7c4"
      },
      "source": [
        "#4a\n",
        "df_concat_inner=pd.concat([d1,d2],join='inner',axis=1)\n",
        "df_concat_inner"
      ],
      "execution_count": null,
      "outputs": [
        {
          "output_type": "execute_result",
          "data": {
            "text/html": [
              "<div>\n",
              "<style scoped>\n",
              "    .dataframe tbody tr th:only-of-type {\n",
              "        vertical-align: middle;\n",
              "    }\n",
              "\n",
              "    .dataframe tbody tr th {\n",
              "        vertical-align: top;\n",
              "    }\n",
              "\n",
              "    .dataframe thead th {\n",
              "        text-align: right;\n",
              "    }\n",
              "</style>\n",
              "<table border=\"1\" class=\"dataframe\">\n",
              "  <thead>\n",
              "    <tr style=\"text-align: right;\">\n",
              "      <th></th>\n",
              "      <th>Rollno</th>\n",
              "      <th>Name</th>\n",
              "      <th>city</th>\n",
              "      <th>Rollno</th>\n",
              "      <th>Hobby</th>\n",
              "    </tr>\n",
              "  </thead>\n",
              "  <tbody>\n",
              "    <tr>\n",
              "      <th>0</th>\n",
              "      <td>1</td>\n",
              "      <td>Ragavi Rajkumar</td>\n",
              "      <td>Bangalore</td>\n",
              "      <td>1</td>\n",
              "      <td>Digital Art</td>\n",
              "    </tr>\n",
              "    <tr>\n",
              "      <th>1</th>\n",
              "      <td>2</td>\n",
              "      <td>Roshini Rajkumar</td>\n",
              "      <td>Boston</td>\n",
              "      <td>2</td>\n",
              "      <td>Playing the piano</td>\n",
              "    </tr>\n",
              "    <tr>\n",
              "      <th>2</th>\n",
              "      <td>3</td>\n",
              "      <td>Rajkumar</td>\n",
              "      <td>Detroit</td>\n",
              "      <td>3</td>\n",
              "      <td>Photography</td>\n",
              "    </tr>\n",
              "  </tbody>\n",
              "</table>\n",
              "</div>"
            ],
            "text/plain": [
              "   Rollno              Name       city  Rollno              Hobby\n",
              "0       1   Ragavi Rajkumar  Bangalore       1        Digital Art\n",
              "1       2  Roshini Rajkumar     Boston       2  Playing the piano\n",
              "2       3          Rajkumar    Detroit       3        Photography"
            ]
          },
          "metadata": {
            "tags": []
          },
          "execution_count": 49
        }
      ]
    },
    {
      "cell_type": "code",
      "metadata": {
        "colab": {
          "base_uri": "https://localhost:8080/",
          "height": 142
        },
        "id": "UJ1OG8aXjqbv",
        "outputId": "22057cff-4ed9-441c-c578-ed460965fbf4"
      },
      "source": [
        "#4b\n",
        "df_concat_outer=pd.concat([d1,d2],join='outer',axis=1)\n",
        "df_concat_outer"
      ],
      "execution_count": null,
      "outputs": [
        {
          "output_type": "execute_result",
          "data": {
            "text/html": [
              "<div>\n",
              "<style scoped>\n",
              "    .dataframe tbody tr th:only-of-type {\n",
              "        vertical-align: middle;\n",
              "    }\n",
              "\n",
              "    .dataframe tbody tr th {\n",
              "        vertical-align: top;\n",
              "    }\n",
              "\n",
              "    .dataframe thead th {\n",
              "        text-align: right;\n",
              "    }\n",
              "</style>\n",
              "<table border=\"1\" class=\"dataframe\">\n",
              "  <thead>\n",
              "    <tr style=\"text-align: right;\">\n",
              "      <th></th>\n",
              "      <th>Rollno</th>\n",
              "      <th>Name</th>\n",
              "      <th>city</th>\n",
              "      <th>Rollno</th>\n",
              "      <th>Hobby</th>\n",
              "    </tr>\n",
              "  </thead>\n",
              "  <tbody>\n",
              "    <tr>\n",
              "      <th>0</th>\n",
              "      <td>1</td>\n",
              "      <td>Ragavi Rajkumar</td>\n",
              "      <td>Bangalore</td>\n",
              "      <td>1</td>\n",
              "      <td>Digital Art</td>\n",
              "    </tr>\n",
              "    <tr>\n",
              "      <th>1</th>\n",
              "      <td>2</td>\n",
              "      <td>Roshini Rajkumar</td>\n",
              "      <td>Boston</td>\n",
              "      <td>2</td>\n",
              "      <td>Playing the piano</td>\n",
              "    </tr>\n",
              "    <tr>\n",
              "      <th>2</th>\n",
              "      <td>3</td>\n",
              "      <td>Rajkumar</td>\n",
              "      <td>Detroit</td>\n",
              "      <td>3</td>\n",
              "      <td>Photography</td>\n",
              "    </tr>\n",
              "  </tbody>\n",
              "</table>\n",
              "</div>"
            ],
            "text/plain": [
              "   Rollno              Name       city  Rollno              Hobby\n",
              "0       1   Ragavi Rajkumar  Bangalore       1        Digital Art\n",
              "1       2  Roshini Rajkumar     Boston       2  Playing the piano\n",
              "2       3          Rajkumar    Detroit       3        Photography"
            ]
          },
          "metadata": {
            "tags": []
          },
          "execution_count": 50
        }
      ]
    },
    {
      "cell_type": "code",
      "metadata": {
        "colab": {
          "base_uri": "https://localhost:8080/",
          "height": 142
        },
        "id": "uGIPxs3tjt85",
        "outputId": "6387c732-37c5-4e70-cf0a-4e2d635b88ca"
      },
      "source": [
        "#5\n",
        "df3=pd.melt(d1.reset_index(), id_vars =['Rollno'], \n",
        "            value_vars =['city'])\n",
        "df3"
      ],
      "execution_count": null,
      "outputs": [
        {
          "output_type": "execute_result",
          "data": {
            "text/html": [
              "<div>\n",
              "<style scoped>\n",
              "    .dataframe tbody tr th:only-of-type {\n",
              "        vertical-align: middle;\n",
              "    }\n",
              "\n",
              "    .dataframe tbody tr th {\n",
              "        vertical-align: top;\n",
              "    }\n",
              "\n",
              "    .dataframe thead th {\n",
              "        text-align: right;\n",
              "    }\n",
              "</style>\n",
              "<table border=\"1\" class=\"dataframe\">\n",
              "  <thead>\n",
              "    <tr style=\"text-align: right;\">\n",
              "      <th></th>\n",
              "      <th>Rollno</th>\n",
              "      <th>variable</th>\n",
              "      <th>value</th>\n",
              "    </tr>\n",
              "  </thead>\n",
              "  <tbody>\n",
              "    <tr>\n",
              "      <th>0</th>\n",
              "      <td>1</td>\n",
              "      <td>city</td>\n",
              "      <td>Bangalore</td>\n",
              "    </tr>\n",
              "    <tr>\n",
              "      <th>1</th>\n",
              "      <td>2</td>\n",
              "      <td>city</td>\n",
              "      <td>Boston</td>\n",
              "    </tr>\n",
              "    <tr>\n",
              "      <th>2</th>\n",
              "      <td>3</td>\n",
              "      <td>city</td>\n",
              "      <td>Detroit</td>\n",
              "    </tr>\n",
              "  </tbody>\n",
              "</table>\n",
              "</div>"
            ],
            "text/plain": [
              "   Rollno variable      value\n",
              "0       1     city  Bangalore\n",
              "1       2     city     Boston\n",
              "2       3     city    Detroit"
            ]
          },
          "metadata": {
            "tags": []
          },
          "execution_count": 51
        }
      ]
    },
    {
      "cell_type": "code",
      "metadata": {
        "colab": {
          "base_uri": "https://localhost:8080/",
          "height": 173
        },
        "id": "gTHXj5U8oBiZ",
        "outputId": "7023d76c-acc5-450a-b799-b708a1da73c6"
      },
      "source": [
        "#6\n",
        "df4=df3.pivot(index='Rollno',columns = 'variable', values = 'value')\n",
        "df4"
      ],
      "execution_count": null,
      "outputs": [
        {
          "output_type": "execute_result",
          "data": {
            "text/html": [
              "<div>\n",
              "<style scoped>\n",
              "    .dataframe tbody tr th:only-of-type {\n",
              "        vertical-align: middle;\n",
              "    }\n",
              "\n",
              "    .dataframe tbody tr th {\n",
              "        vertical-align: top;\n",
              "    }\n",
              "\n",
              "    .dataframe thead th {\n",
              "        text-align: right;\n",
              "    }\n",
              "</style>\n",
              "<table border=\"1\" class=\"dataframe\">\n",
              "  <thead>\n",
              "    <tr style=\"text-align: right;\">\n",
              "      <th>variable</th>\n",
              "      <th>city</th>\n",
              "    </tr>\n",
              "    <tr>\n",
              "      <th>Rollno</th>\n",
              "      <th></th>\n",
              "    </tr>\n",
              "  </thead>\n",
              "  <tbody>\n",
              "    <tr>\n",
              "      <th>1</th>\n",
              "      <td>Bangalore</td>\n",
              "    </tr>\n",
              "    <tr>\n",
              "      <th>2</th>\n",
              "      <td>Boston</td>\n",
              "    </tr>\n",
              "    <tr>\n",
              "      <th>3</th>\n",
              "      <td>Detroit</td>\n",
              "    </tr>\n",
              "  </tbody>\n",
              "</table>\n",
              "</div>"
            ],
            "text/plain": [
              "variable       city\n",
              "Rollno             \n",
              "1         Bangalore\n",
              "2            Boston\n",
              "3           Detroit"
            ]
          },
          "metadata": {
            "tags": []
          },
          "execution_count": 52
        }
      ]
    },
    {
      "cell_type": "code",
      "metadata": {
        "colab": {
          "base_uri": "https://localhost:8080/",
          "height": 173
        },
        "id": "qOYiun-xjxRJ",
        "outputId": "297f9a26-60f0-4542-ec80-e86902661e5b"
      },
      "source": [
        "#7\n",
        "d1.set_index('Rollno').join(d2.set_index('Rollno'))"
      ],
      "execution_count": null,
      "outputs": [
        {
          "output_type": "execute_result",
          "data": {
            "text/html": [
              "<div>\n",
              "<style scoped>\n",
              "    .dataframe tbody tr th:only-of-type {\n",
              "        vertical-align: middle;\n",
              "    }\n",
              "\n",
              "    .dataframe tbody tr th {\n",
              "        vertical-align: top;\n",
              "    }\n",
              "\n",
              "    .dataframe thead th {\n",
              "        text-align: right;\n",
              "    }\n",
              "</style>\n",
              "<table border=\"1\" class=\"dataframe\">\n",
              "  <thead>\n",
              "    <tr style=\"text-align: right;\">\n",
              "      <th></th>\n",
              "      <th>Name</th>\n",
              "      <th>city</th>\n",
              "      <th>Hobby</th>\n",
              "    </tr>\n",
              "    <tr>\n",
              "      <th>Rollno</th>\n",
              "      <th></th>\n",
              "      <th></th>\n",
              "      <th></th>\n",
              "    </tr>\n",
              "  </thead>\n",
              "  <tbody>\n",
              "    <tr>\n",
              "      <th>1</th>\n",
              "      <td>Ragavi Rajkumar</td>\n",
              "      <td>Bangalore</td>\n",
              "      <td>Digital Art</td>\n",
              "    </tr>\n",
              "    <tr>\n",
              "      <th>2</th>\n",
              "      <td>Roshini Rajkumar</td>\n",
              "      <td>Boston</td>\n",
              "      <td>Playing the piano</td>\n",
              "    </tr>\n",
              "    <tr>\n",
              "      <th>3</th>\n",
              "      <td>Rajkumar</td>\n",
              "      <td>Detroit</td>\n",
              "      <td>Photography</td>\n",
              "    </tr>\n",
              "  </tbody>\n",
              "</table>\n",
              "</div>"
            ],
            "text/plain": [
              "                    Name       city              Hobby\n",
              "Rollno                                                \n",
              "1        Ragavi Rajkumar  Bangalore        Digital Art\n",
              "2       Roshini Rajkumar     Boston  Playing the piano\n",
              "3               Rajkumar    Detroit        Photography"
            ]
          },
          "metadata": {
            "tags": []
          },
          "execution_count": 53
        }
      ]
    }
  ]
}